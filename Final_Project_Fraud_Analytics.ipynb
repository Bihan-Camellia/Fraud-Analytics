{
 "cells": [
  {
   "cell_type": "markdown",
   "metadata": {},
   "source": [
    "# Table of Contents\n",
    "1. [Introduction](#intro)\n",
    "\n",
    "\n",
    "2. [Exploratory Data Analysis](#EDA)\n",
    "\n",
    "    2.1 [Data Quality Report](#DQR)\n",
    "    \n",
    "    2.2 [Visualization](#visualization)\n",
    "    \n",
    "     \n",
    "3. [Data Cleaning](#datacleaning)\n",
    "\n",
    "\n",
    "4. [Modeling](#modeling)\n",
    "\n",
    "    4.1[Random Forest](rf)\n",
    "    \n",
    "    4.2[Logistic Regression](#lr)\n",
    "    \n",
    "    4.3[XGBoost](#xgboost)\n",
    "    \n",
    "    \n",
    "5. [Conclusion](#conclusion)\n",
    "    "
   ]
  },
  {
   "cell_type": "markdown",
   "metadata": {},
   "source": [
    "<a id='intro'></a>\n",
    "\n",
    "## Introduction"
   ]
  },
  {
   "cell_type": "markdown",
   "metadata": {},
   "source": [
    "This is a data set of credit card transaction. There are ten columns and 96753 rows. Each row is a independent credit card transaction record. The dataset provides with the merchant information(Merchnum, Merch description, Merch state, Merch zip), transaction information(date, amount). The column of Fraud is the target dependent variable. My goal is to create a fraud detection system(model) using these provided features."
   ]
  },
  {
   "cell_type": "markdown",
   "metadata": {},
   "source": [
    "<a id='EDA'></a>\n",
    "\n",
    "## Exploratory Data Analysis"
   ]
  },
  {
   "cell_type": "code",
   "execution_count": 1,
   "metadata": {},
   "outputs": [
    {
     "name": "stderr",
     "output_type": "stream",
     "text": [
      "/anaconda3/envs/python3/lib/python3.7/site-packages/sklearn/ensemble/weight_boosting.py:29: DeprecationWarning: numpy.core.umath_tests is an internal NumPy module and should not be imported. It will be removed in a future NumPy release.\n",
      "  from numpy.core.umath_tests import inner1d\n"
     ]
    }
   ],
   "source": [
    "import pandas as pd\n",
    "import matplotlib.pyplot as plt\n",
    "import numpy as np\n",
    "import seaborn as sns\n",
    "from sklearn.metrics import roc_auc_score\n",
    "from sklearn.metrics import roc_curve\n",
    "from sklearn.ensemble import RandomForestClassifier\n",
    "from sklearn.model_selection import train_test_split\n",
    "from sklearn.metrics import recall_score\n",
    "from imblearn.over_sampling import SMOTE\n",
    "from sklearn import preprocessing\n",
    "import statsmodels.api as sm\n",
    "import matplotlib.pyplot as plt \n",
    "plt.rc(\"font\", size=14)\n",
    "from sklearn.linear_model import LogisticRegression\n",
    "from sklearn.feature_selection import RFE\n",
    "from sklearn.metrics import confusion_matrix\n",
    "from numpy import loadtxt\n",
    "from xgboost import XGBClassifier\n",
    "from sklearn.metrics import accuracy_score"
   ]
  },
  {
   "cell_type": "code",
   "execution_count": 2,
   "metadata": {},
   "outputs": [],
   "source": [
    "mycolor = [\"#a50026\",\"#d73027\",\"#f46d43\",\"#fdae61\",\"#fee08b\",\"#d9ef8b\",\"#a6d96a\",\"#66bd63\",\"#1a9850\",\"#006837\"]\n",
    "palette  = sns.color_palette(mycolor)\n",
    "sns.set_palette(palette)"
   ]
  },
  {
   "cell_type": "code",
   "execution_count": 4,
   "metadata": {
    "scrolled": true
   },
   "outputs": [
    {
     "name": "stderr",
     "output_type": "stream",
     "text": [
      "/anaconda3/envs/python3/lib/python3.7/site-packages/pandas/io/excel.py:520: UserWarning: The 'parse_dates=True' keyword of read_excel was provided without an 'index_col' keyword value.\n",
      "  warn(\"The 'parse_dates=True' keyword of read_excel was provided\"\n"
     ]
    }
   ],
   "source": [
    "transac = pd.read_excel('card transactions.xlsx',parse_dates=True, dtype = {'Merch zip': np.str} )"
   ]
  },
  {
   "cell_type": "code",
   "execution_count": 5,
   "metadata": {},
   "outputs": [
    {
     "name": "stdout",
     "output_type": "stream",
     "text": [
      "<class 'pandas.core.frame.DataFrame'>\n",
      "RangeIndex: 96753 entries, 0 to 96752\n",
      "Data columns (total 10 columns):\n",
      "Recnum               96753 non-null int64\n",
      "Cardnum              96753 non-null int64\n",
      "Date                 96753 non-null datetime64[ns]\n",
      "Merchnum             93378 non-null object\n",
      "Merch description    96753 non-null object\n",
      "Merch state          95558 non-null object\n",
      "Merch zip            96753 non-null object\n",
      "Transtype            96753 non-null object\n",
      "Amount               96753 non-null float64\n",
      "Fraud                96753 non-null int64\n",
      "dtypes: datetime64[ns](1), float64(1), int64(3), object(5)\n",
      "memory usage: 7.4+ MB\n"
     ]
    }
   ],
   "source": [
    "transac.info()"
   ]
  },
  {
   "cell_type": "code",
   "execution_count": 6,
   "metadata": {},
   "outputs": [
    {
     "data": {
      "text/html": [
       "<div>\n",
       "<style scoped>\n",
       "    .dataframe tbody tr th:only-of-type {\n",
       "        vertical-align: middle;\n",
       "    }\n",
       "\n",
       "    .dataframe tbody tr th {\n",
       "        vertical-align: top;\n",
       "    }\n",
       "\n",
       "    .dataframe thead th {\n",
       "        text-align: right;\n",
       "    }\n",
       "</style>\n",
       "<table border=\"1\" class=\"dataframe\">\n",
       "  <thead>\n",
       "    <tr style=\"text-align: right;\">\n",
       "      <th></th>\n",
       "      <th>Recnum</th>\n",
       "      <th>Cardnum</th>\n",
       "      <th>Amount</th>\n",
       "      <th>Fraud</th>\n",
       "    </tr>\n",
       "  </thead>\n",
       "  <tbody>\n",
       "    <tr>\n",
       "      <th>count</th>\n",
       "      <td>96753.000000</td>\n",
       "      <td>9.675300e+04</td>\n",
       "      <td>9.675300e+04</td>\n",
       "      <td>96753.000000</td>\n",
       "    </tr>\n",
       "    <tr>\n",
       "      <th>mean</th>\n",
       "      <td>48377.000000</td>\n",
       "      <td>5.142202e+09</td>\n",
       "      <td>4.278857e+02</td>\n",
       "      <td>0.010945</td>\n",
       "    </tr>\n",
       "    <tr>\n",
       "      <th>std</th>\n",
       "      <td>27930.329635</td>\n",
       "      <td>5.567084e+04</td>\n",
       "      <td>1.000614e+04</td>\n",
       "      <td>0.104047</td>\n",
       "    </tr>\n",
       "    <tr>\n",
       "      <th>min</th>\n",
       "      <td>1.000000</td>\n",
       "      <td>5.142110e+09</td>\n",
       "      <td>1.000000e-02</td>\n",
       "      <td>0.000000</td>\n",
       "    </tr>\n",
       "    <tr>\n",
       "      <th>25%</th>\n",
       "      <td>24189.000000</td>\n",
       "      <td>5.142152e+09</td>\n",
       "      <td>3.348000e+01</td>\n",
       "      <td>0.000000</td>\n",
       "    </tr>\n",
       "    <tr>\n",
       "      <th>50%</th>\n",
       "      <td>48377.000000</td>\n",
       "      <td>5.142196e+09</td>\n",
       "      <td>1.379800e+02</td>\n",
       "      <td>0.000000</td>\n",
       "    </tr>\n",
       "    <tr>\n",
       "      <th>75%</th>\n",
       "      <td>72565.000000</td>\n",
       "      <td>5.142246e+09</td>\n",
       "      <td>4.282000e+02</td>\n",
       "      <td>0.000000</td>\n",
       "    </tr>\n",
       "    <tr>\n",
       "      <th>max</th>\n",
       "      <td>96753.000000</td>\n",
       "      <td>5.142847e+09</td>\n",
       "      <td>3.102046e+06</td>\n",
       "      <td>1.000000</td>\n",
       "    </tr>\n",
       "  </tbody>\n",
       "</table>\n",
       "</div>"
      ],
      "text/plain": [
       "             Recnum       Cardnum        Amount         Fraud\n",
       "count  96753.000000  9.675300e+04  9.675300e+04  96753.000000\n",
       "mean   48377.000000  5.142202e+09  4.278857e+02      0.010945\n",
       "std    27930.329635  5.567084e+04  1.000614e+04      0.104047\n",
       "min        1.000000  5.142110e+09  1.000000e-02      0.000000\n",
       "25%    24189.000000  5.142152e+09  3.348000e+01      0.000000\n",
       "50%    48377.000000  5.142196e+09  1.379800e+02      0.000000\n",
       "75%    72565.000000  5.142246e+09  4.282000e+02      0.000000\n",
       "max    96753.000000  5.142847e+09  3.102046e+06      1.000000"
      ]
     },
     "execution_count": 6,
     "metadata": {},
     "output_type": "execute_result"
    }
   ],
   "source": [
    "transac.describe()"
   ]
  },
  {
   "cell_type": "code",
   "execution_count": 7,
   "metadata": {},
   "outputs": [
    {
     "data": {
      "text/html": [
       "<div>\n",
       "<style scoped>\n",
       "    .dataframe tbody tr th:only-of-type {\n",
       "        vertical-align: middle;\n",
       "    }\n",
       "\n",
       "    .dataframe tbody tr th {\n",
       "        vertical-align: top;\n",
       "    }\n",
       "\n",
       "    .dataframe thead th {\n",
       "        text-align: right;\n",
       "    }\n",
       "</style>\n",
       "<table border=\"1\" class=\"dataframe\">\n",
       "  <thead>\n",
       "    <tr style=\"text-align: right;\">\n",
       "      <th></th>\n",
       "      <th>Recnum</th>\n",
       "      <th>Cardnum</th>\n",
       "      <th>Date</th>\n",
       "      <th>Merchnum</th>\n",
       "      <th>Merch description</th>\n",
       "      <th>Merch state</th>\n",
       "      <th>Merch zip</th>\n",
       "      <th>Transtype</th>\n",
       "      <th>Amount</th>\n",
       "      <th>Fraud</th>\n",
       "    </tr>\n",
       "  </thead>\n",
       "  <tbody>\n",
       "    <tr>\n",
       "      <th>0</th>\n",
       "      <td>1</td>\n",
       "      <td>5142190439</td>\n",
       "      <td>2010-01-01</td>\n",
       "      <td>5509006296254</td>\n",
       "      <td>FEDEX SHP 12/23/09 AB#</td>\n",
       "      <td>TN</td>\n",
       "      <td>38118</td>\n",
       "      <td>P</td>\n",
       "      <td>3.62</td>\n",
       "      <td>0</td>\n",
       "    </tr>\n",
       "    <tr>\n",
       "      <th>1</th>\n",
       "      <td>2</td>\n",
       "      <td>5142183973</td>\n",
       "      <td>2010-01-01</td>\n",
       "      <td>61003026333</td>\n",
       "      <td>SERVICE MERCHANDISE #81</td>\n",
       "      <td>MA</td>\n",
       "      <td>01803</td>\n",
       "      <td>P</td>\n",
       "      <td>31.42</td>\n",
       "      <td>0</td>\n",
       "    </tr>\n",
       "    <tr>\n",
       "      <th>2</th>\n",
       "      <td>3</td>\n",
       "      <td>5142131721</td>\n",
       "      <td>2010-01-01</td>\n",
       "      <td>4503082993600</td>\n",
       "      <td>OFFICE DEPOT #191</td>\n",
       "      <td>MD</td>\n",
       "      <td>20706</td>\n",
       "      <td>P</td>\n",
       "      <td>178.49</td>\n",
       "      <td>0</td>\n",
       "    </tr>\n",
       "    <tr>\n",
       "      <th>3</th>\n",
       "      <td>4</td>\n",
       "      <td>5142148452</td>\n",
       "      <td>2010-01-01</td>\n",
       "      <td>5509006296254</td>\n",
       "      <td>FEDEX SHP 12/28/09 AB#</td>\n",
       "      <td>TN</td>\n",
       "      <td>38118</td>\n",
       "      <td>P</td>\n",
       "      <td>3.62</td>\n",
       "      <td>0</td>\n",
       "    </tr>\n",
       "    <tr>\n",
       "      <th>4</th>\n",
       "      <td>5</td>\n",
       "      <td>5142190439</td>\n",
       "      <td>2010-01-01</td>\n",
       "      <td>5509006296254</td>\n",
       "      <td>FEDEX SHP 12/23/09 AB#</td>\n",
       "      <td>TN</td>\n",
       "      <td>38118</td>\n",
       "      <td>P</td>\n",
       "      <td>3.62</td>\n",
       "      <td>0</td>\n",
       "    </tr>\n",
       "  </tbody>\n",
       "</table>\n",
       "</div>"
      ],
      "text/plain": [
       "   Recnum     Cardnum       Date       Merchnum        Merch description  \\\n",
       "0       1  5142190439 2010-01-01  5509006296254   FEDEX SHP 12/23/09 AB#   \n",
       "1       2  5142183973 2010-01-01    61003026333  SERVICE MERCHANDISE #81   \n",
       "2       3  5142131721 2010-01-01  4503082993600        OFFICE DEPOT #191   \n",
       "3       4  5142148452 2010-01-01  5509006296254   FEDEX SHP 12/28/09 AB#   \n",
       "4       5  5142190439 2010-01-01  5509006296254   FEDEX SHP 12/23/09 AB#   \n",
       "\n",
       "  Merch state Merch zip Transtype  Amount  Fraud  \n",
       "0          TN     38118         P    3.62      0  \n",
       "1          MA     01803         P   31.42      0  \n",
       "2          MD     20706         P  178.49      0  \n",
       "3          TN     38118         P    3.62      0  \n",
       "4          TN     38118         P    3.62      0  "
      ]
     },
     "execution_count": 7,
     "metadata": {},
     "output_type": "execute_result"
    }
   ],
   "source": [
    "transac.head()"
   ]
  },
  {
   "cell_type": "markdown",
   "metadata": {},
   "source": [
    "<a id='DQR'></a>\n",
    "\n",
    "#### Data Quality Report"
   ]
  },
  {
   "cell_type": "markdown",
   "metadata": {},
   "source": [
    "<a id='summary'></a>\n",
    "\n",
    "##### Summary Information"
   ]
  },
  {
   "cell_type": "markdown",
   "metadata": {},
   "source": [
    "We can see from the `transac.info()` command that there are 96753 entreis and 10 columns. Some of thee variables have missing values(Merchnum, Merch state, Merch zip) that we need to make up before we move on. \n",
    "\n",
    "Also, some of the variables should be characters but are defined as numeric variables mistakenly when reading the data, so I have to change them into categorical variabels first."
   ]
  },
  {
   "cell_type": "code",
   "execution_count": 8,
   "metadata": {},
   "outputs": [
    {
     "name": "stdout",
     "output_type": "stream",
     "text": [
      "<class 'pandas.core.frame.DataFrame'>\n",
      "RangeIndex: 96753 entries, 0 to 96752\n",
      "Data columns (total 10 columns):\n",
      "Recnum               96753 non-null object\n",
      "Cardnum              96753 non-null object\n",
      "Date                 96753 non-null datetime64[ns]\n",
      "Merchnum             93378 non-null object\n",
      "Merch description    96753 non-null object\n",
      "Merch state          95558 non-null object\n",
      "Merch zip            96753 non-null object\n",
      "Transtype            96753 non-null object\n",
      "Amount               96753 non-null float64\n",
      "Fraud                96753 non-null object\n",
      "dtypes: datetime64[ns](1), float64(1), object(8)\n",
      "memory usage: 7.4+ MB\n"
     ]
    }
   ],
   "source": [
    "type_change_column = ['Recnum','Cardnum','Fraud']\n",
    "\n",
    "for col in type_change_column:\n",
    "    transac[col] = transac[col].apply(str)\n",
    "\n",
    "transac.info()"
   ]
  },
  {
   "cell_type": "code",
   "execution_count": 9,
   "metadata": {},
   "outputs": [
    {
     "data": {
      "text/html": [
       "<div>\n",
       "<style scoped>\n",
       "    .dataframe tbody tr th:only-of-type {\n",
       "        vertical-align: middle;\n",
       "    }\n",
       "\n",
       "    .dataframe tbody tr th {\n",
       "        vertical-align: top;\n",
       "    }\n",
       "\n",
       "    .dataframe thead th {\n",
       "        text-align: right;\n",
       "    }\n",
       "</style>\n",
       "<table border=\"1\" class=\"dataframe\">\n",
       "  <thead>\n",
       "    <tr style=\"text-align: right;\">\n",
       "      <th></th>\n",
       "      <th>Cardnum</th>\n",
       "      <th>Date</th>\n",
       "      <th>Merchnum</th>\n",
       "      <th>Merch description</th>\n",
       "      <th>Merch state</th>\n",
       "      <th>Merch zip</th>\n",
       "      <th>Transtype</th>\n",
       "      <th>Amount</th>\n",
       "      <th>Fraud</th>\n",
       "    </tr>\n",
       "    <tr>\n",
       "      <th>Recnum</th>\n",
       "      <th></th>\n",
       "      <th></th>\n",
       "      <th></th>\n",
       "      <th></th>\n",
       "      <th></th>\n",
       "      <th></th>\n",
       "      <th></th>\n",
       "      <th></th>\n",
       "      <th></th>\n",
       "    </tr>\n",
       "  </thead>\n",
       "  <tbody>\n",
       "    <tr>\n",
       "      <th>1</th>\n",
       "      <td>5142190439</td>\n",
       "      <td>2010-01-01</td>\n",
       "      <td>5509006296254</td>\n",
       "      <td>FEDEX SHP 12/23/09 AB#</td>\n",
       "      <td>TN</td>\n",
       "      <td>38118</td>\n",
       "      <td>P</td>\n",
       "      <td>3.62</td>\n",
       "      <td>0</td>\n",
       "    </tr>\n",
       "    <tr>\n",
       "      <th>2</th>\n",
       "      <td>5142183973</td>\n",
       "      <td>2010-01-01</td>\n",
       "      <td>61003026333</td>\n",
       "      <td>SERVICE MERCHANDISE #81</td>\n",
       "      <td>MA</td>\n",
       "      <td>01803</td>\n",
       "      <td>P</td>\n",
       "      <td>31.42</td>\n",
       "      <td>0</td>\n",
       "    </tr>\n",
       "    <tr>\n",
       "      <th>3</th>\n",
       "      <td>5142131721</td>\n",
       "      <td>2010-01-01</td>\n",
       "      <td>4503082993600</td>\n",
       "      <td>OFFICE DEPOT #191</td>\n",
       "      <td>MD</td>\n",
       "      <td>20706</td>\n",
       "      <td>P</td>\n",
       "      <td>178.49</td>\n",
       "      <td>0</td>\n",
       "    </tr>\n",
       "    <tr>\n",
       "      <th>4</th>\n",
       "      <td>5142148452</td>\n",
       "      <td>2010-01-01</td>\n",
       "      <td>5509006296254</td>\n",
       "      <td>FEDEX SHP 12/28/09 AB#</td>\n",
       "      <td>TN</td>\n",
       "      <td>38118</td>\n",
       "      <td>P</td>\n",
       "      <td>3.62</td>\n",
       "      <td>0</td>\n",
       "    </tr>\n",
       "    <tr>\n",
       "      <th>5</th>\n",
       "      <td>5142190439</td>\n",
       "      <td>2010-01-01</td>\n",
       "      <td>5509006296254</td>\n",
       "      <td>FEDEX SHP 12/23/09 AB#</td>\n",
       "      <td>TN</td>\n",
       "      <td>38118</td>\n",
       "      <td>P</td>\n",
       "      <td>3.62</td>\n",
       "      <td>0</td>\n",
       "    </tr>\n",
       "    <tr>\n",
       "      <th>6</th>\n",
       "      <td>5142149874</td>\n",
       "      <td>2010-01-01</td>\n",
       "      <td>5509006296254</td>\n",
       "      <td>FEDEX SHP 12/22/09 AB#</td>\n",
       "      <td>TN</td>\n",
       "      <td>38118</td>\n",
       "      <td>P</td>\n",
       "      <td>3.67</td>\n",
       "      <td>0</td>\n",
       "    </tr>\n",
       "    <tr>\n",
       "      <th>7</th>\n",
       "      <td>5142189277</td>\n",
       "      <td>2010-01-01</td>\n",
       "      <td>5509006296254</td>\n",
       "      <td>FEDEX SHP 12/28/09 AB#</td>\n",
       "      <td>TN</td>\n",
       "      <td>38118</td>\n",
       "      <td>P</td>\n",
       "      <td>3.62</td>\n",
       "      <td>0</td>\n",
       "    </tr>\n",
       "    <tr>\n",
       "      <th>8</th>\n",
       "      <td>5142191182</td>\n",
       "      <td>2010-01-01</td>\n",
       "      <td>6098208200062</td>\n",
       "      <td>MIAMI COMPUTER SUPPLY</td>\n",
       "      <td>OH</td>\n",
       "      <td>45429</td>\n",
       "      <td>P</td>\n",
       "      <td>230.32</td>\n",
       "      <td>0</td>\n",
       "    </tr>\n",
       "    <tr>\n",
       "      <th>9</th>\n",
       "      <td>5142258629</td>\n",
       "      <td>2010-01-01</td>\n",
       "      <td>602608969534</td>\n",
       "      <td>FISHER SCI ATL</td>\n",
       "      <td>GA</td>\n",
       "      <td>30091</td>\n",
       "      <td>P</td>\n",
       "      <td>62.11</td>\n",
       "      <td>0</td>\n",
       "    </tr>\n",
       "    <tr>\n",
       "      <th>10</th>\n",
       "      <td>5142190439</td>\n",
       "      <td>2010-01-01</td>\n",
       "      <td>5509006296254</td>\n",
       "      <td>FEDEX SHP 12/23/09 AB#</td>\n",
       "      <td>TN</td>\n",
       "      <td>38118</td>\n",
       "      <td>P</td>\n",
       "      <td>3.62</td>\n",
       "      <td>0</td>\n",
       "    </tr>\n",
       "    <tr>\n",
       "      <th>11</th>\n",
       "      <td>5142283088</td>\n",
       "      <td>2010-01-01</td>\n",
       "      <td>5509006296254</td>\n",
       "      <td>FEDEX SHP 12/22/09 AB#</td>\n",
       "      <td>TN</td>\n",
       "      <td>38118</td>\n",
       "      <td>P</td>\n",
       "      <td>3.62</td>\n",
       "      <td>0</td>\n",
       "    </tr>\n",
       "    <tr>\n",
       "      <th>12</th>\n",
       "      <td>5142190439</td>\n",
       "      <td>2010-01-01</td>\n",
       "      <td>5509006296254</td>\n",
       "      <td>FEDEX SHP 12/23/09 AB#</td>\n",
       "      <td>TN</td>\n",
       "      <td>38118</td>\n",
       "      <td>P</td>\n",
       "      <td>3.62</td>\n",
       "      <td>0</td>\n",
       "    </tr>\n",
       "    <tr>\n",
       "      <th>13</th>\n",
       "      <td>5142146134</td>\n",
       "      <td>2010-01-01</td>\n",
       "      <td>5509006296254</td>\n",
       "      <td>FEDEX SHP 12/21/09 AB#</td>\n",
       "      <td>TN</td>\n",
       "      <td>38118</td>\n",
       "      <td>P</td>\n",
       "      <td>3.85</td>\n",
       "      <td>0</td>\n",
       "    </tr>\n",
       "    <tr>\n",
       "      <th>14</th>\n",
       "      <td>5142124791</td>\n",
       "      <td>2010-01-01</td>\n",
       "      <td>5725000466504</td>\n",
       "      <td>CDW*GOVERNMENT INC</td>\n",
       "      <td>IL</td>\n",
       "      <td>60061</td>\n",
       "      <td>P</td>\n",
       "      <td>106.89</td>\n",
       "      <td>0</td>\n",
       "    </tr>\n",
       "    <tr>\n",
       "      <th>15</th>\n",
       "      <td>5142151402</td>\n",
       "      <td>2010-01-01</td>\n",
       "      <td>5725000466504</td>\n",
       "      <td>CDW*GOVERNMENT INC</td>\n",
       "      <td>IL</td>\n",
       "      <td>60061</td>\n",
       "      <td>P</td>\n",
       "      <td>137.45</td>\n",
       "      <td>0</td>\n",
       "    </tr>\n",
       "    <tr>\n",
       "      <th>16</th>\n",
       "      <td>5142148452</td>\n",
       "      <td>2010-01-01</td>\n",
       "      <td>5509006296254</td>\n",
       "      <td>FEDEX SHP 12/22/09 AB#</td>\n",
       "      <td>TN</td>\n",
       "      <td>38118</td>\n",
       "      <td>P</td>\n",
       "      <td>3.74</td>\n",
       "      <td>0</td>\n",
       "    </tr>\n",
       "    <tr>\n",
       "      <th>17</th>\n",
       "      <td>5142148452</td>\n",
       "      <td>2010-01-01</td>\n",
       "      <td>5509006296254</td>\n",
       "      <td>FEDEX SHP 12/28/09 AB#</td>\n",
       "      <td>TN</td>\n",
       "      <td>38118</td>\n",
       "      <td>P</td>\n",
       "      <td>3.80</td>\n",
       "      <td>0</td>\n",
       "    </tr>\n",
       "    <tr>\n",
       "      <th>18</th>\n",
       "      <td>5142125684</td>\n",
       "      <td>2010-01-01</td>\n",
       "      <td>5509006296254</td>\n",
       "      <td>FEDEX SHP 12/22/09 AB#</td>\n",
       "      <td>TN</td>\n",
       "      <td>38118</td>\n",
       "      <td>P</td>\n",
       "      <td>3.67</td>\n",
       "      <td>0</td>\n",
       "    </tr>\n",
       "    <tr>\n",
       "      <th>19</th>\n",
       "      <td>5142139349</td>\n",
       "      <td>2010-01-01</td>\n",
       "      <td>5509006296254</td>\n",
       "      <td>FEDEX SHP 12/23/09 AB#</td>\n",
       "      <td>TN</td>\n",
       "      <td>38118</td>\n",
       "      <td>P</td>\n",
       "      <td>3.67</td>\n",
       "      <td>0</td>\n",
       "    </tr>\n",
       "    <tr>\n",
       "      <th>20</th>\n",
       "      <td>5142190596</td>\n",
       "      <td>2010-01-01</td>\n",
       "      <td>602608969284</td>\n",
       "      <td>FISHER SCI HUS</td>\n",
       "      <td>TX</td>\n",
       "      <td>77251</td>\n",
       "      <td>P</td>\n",
       "      <td>218.57</td>\n",
       "      <td>0</td>\n",
       "    </tr>\n",
       "    <tr>\n",
       "      <th>21</th>\n",
       "      <td>5142190439</td>\n",
       "      <td>2010-01-01</td>\n",
       "      <td>5509006296254</td>\n",
       "      <td>FEDEX SHP 12/22/09 AB#</td>\n",
       "      <td>TN</td>\n",
       "      <td>38118</td>\n",
       "      <td>P</td>\n",
       "      <td>3.62</td>\n",
       "      <td>0</td>\n",
       "    </tr>\n",
       "    <tr>\n",
       "      <th>22</th>\n",
       "      <td>5142190439</td>\n",
       "      <td>2010-01-01</td>\n",
       "      <td>5509006296254</td>\n",
       "      <td>FEDEX SHP 12/23/09 AB#</td>\n",
       "      <td>TN</td>\n",
       "      <td>38118</td>\n",
       "      <td>P</td>\n",
       "      <td>3.62</td>\n",
       "      <td>0</td>\n",
       "    </tr>\n",
       "    <tr>\n",
       "      <th>23</th>\n",
       "      <td>5142190439</td>\n",
       "      <td>2010-01-01</td>\n",
       "      <td>5509006296254</td>\n",
       "      <td>FEDEX SHP 12/22/09 AB#</td>\n",
       "      <td>TN</td>\n",
       "      <td>38118</td>\n",
       "      <td>P</td>\n",
       "      <td>3.67</td>\n",
       "      <td>0</td>\n",
       "    </tr>\n",
       "    <tr>\n",
       "      <th>24</th>\n",
       "      <td>5142217905</td>\n",
       "      <td>2010-01-01</td>\n",
       "      <td>4353000719908</td>\n",
       "      <td>AMAZON.COM  *SUPERSTRE</td>\n",
       "      <td>WA</td>\n",
       "      <td>98101</td>\n",
       "      <td>P</td>\n",
       "      <td>68.90</td>\n",
       "      <td>0</td>\n",
       "    </tr>\n",
       "    <tr>\n",
       "      <th>25</th>\n",
       "      <td>5142152067</td>\n",
       "      <td>2010-01-01</td>\n",
       "      <td>5509006296254</td>\n",
       "      <td>FEDEX SHP 12/21/09 AB#</td>\n",
       "      <td>TN</td>\n",
       "      <td>38118</td>\n",
       "      <td>P</td>\n",
       "      <td>3.67</td>\n",
       "      <td>0</td>\n",
       "    </tr>\n",
       "    <tr>\n",
       "      <th>26</th>\n",
       "      <td>5142146833</td>\n",
       "      <td>2010-01-01</td>\n",
       "      <td>5509006296254</td>\n",
       "      <td>FEDEX SHP 12/21/09 AB#</td>\n",
       "      <td>TN</td>\n",
       "      <td>38118</td>\n",
       "      <td>P</td>\n",
       "      <td>3.62</td>\n",
       "      <td>0</td>\n",
       "    </tr>\n",
       "    <tr>\n",
       "      <th>27</th>\n",
       "      <td>5142183817</td>\n",
       "      <td>2010-01-01</td>\n",
       "      <td>5725000466504</td>\n",
       "      <td>CDW*GOVERNMENT INC</td>\n",
       "      <td>IL</td>\n",
       "      <td>60061</td>\n",
       "      <td>P</td>\n",
       "      <td>360.00</td>\n",
       "      <td>0</td>\n",
       "    </tr>\n",
       "    <tr>\n",
       "      <th>28</th>\n",
       "      <td>5142190439</td>\n",
       "      <td>2010-01-01</td>\n",
       "      <td>5509006296254</td>\n",
       "      <td>FEDEX SHP 12/23/09 AB#</td>\n",
       "      <td>TN</td>\n",
       "      <td>38118</td>\n",
       "      <td>P</td>\n",
       "      <td>3.62</td>\n",
       "      <td>0</td>\n",
       "    </tr>\n",
       "    <tr>\n",
       "      <th>29</th>\n",
       "      <td>5142270480</td>\n",
       "      <td>2010-01-01</td>\n",
       "      <td>5725000466504</td>\n",
       "      <td>CDW*GOVERNMENT INC</td>\n",
       "      <td>IL</td>\n",
       "      <td>60061</td>\n",
       "      <td>P</td>\n",
       "      <td>427.00</td>\n",
       "      <td>0</td>\n",
       "    </tr>\n",
       "    <tr>\n",
       "      <th>30</th>\n",
       "      <td>5142148452</td>\n",
       "      <td>2010-01-01</td>\n",
       "      <td>5509006296254</td>\n",
       "      <td>FEDEX SHP 12/28/09 AB#</td>\n",
       "      <td>TN</td>\n",
       "      <td>38118</td>\n",
       "      <td>P</td>\n",
       "      <td>3.80</td>\n",
       "      <td>0</td>\n",
       "    </tr>\n",
       "    <tr>\n",
       "      <th>...</th>\n",
       "      <td>...</td>\n",
       "      <td>...</td>\n",
       "      <td>...</td>\n",
       "      <td>...</td>\n",
       "      <td>...</td>\n",
       "      <td>...</td>\n",
       "      <td>...</td>\n",
       "      <td>...</td>\n",
       "      <td>...</td>\n",
       "    </tr>\n",
       "    <tr>\n",
       "      <th>96724</th>\n",
       "      <td>5142127070</td>\n",
       "      <td>2010-12-31</td>\n",
       "      <td>620000655290</td>\n",
       "      <td>CC *PC MALL GOVERNMENT</td>\n",
       "      <td>CA</td>\n",
       "      <td>90503</td>\n",
       "      <td>P</td>\n",
       "      <td>179.99</td>\n",
       "      <td>0</td>\n",
       "    </tr>\n",
       "    <tr>\n",
       "      <th>96725</th>\n",
       "      <td>5142178899</td>\n",
       "      <td>2010-12-31</td>\n",
       "      <td>5859063805001</td>\n",
       "      <td>ELECTRONIC SUPPLY CO I</td>\n",
       "      <td>MO</td>\n",
       "      <td>64111</td>\n",
       "      <td>P</td>\n",
       "      <td>144.80</td>\n",
       "      <td>0</td>\n",
       "    </tr>\n",
       "    <tr>\n",
       "      <th>96726</th>\n",
       "      <td>5142253938</td>\n",
       "      <td>2010-12-31</td>\n",
       "      <td>6822408111449</td>\n",
       "      <td>TIMES PI SUBSCRIPTIONS</td>\n",
       "      <td>WA</td>\n",
       "      <td>98109</td>\n",
       "      <td>P</td>\n",
       "      <td>106.60</td>\n",
       "      <td>0</td>\n",
       "    </tr>\n",
       "    <tr>\n",
       "      <th>96727</th>\n",
       "      <td>5142276099</td>\n",
       "      <td>2010-12-31</td>\n",
       "      <td>602608969534</td>\n",
       "      <td>FISHER SCI ATL</td>\n",
       "      <td>GA</td>\n",
       "      <td>30091</td>\n",
       "      <td>P</td>\n",
       "      <td>208.36</td>\n",
       "      <td>0</td>\n",
       "    </tr>\n",
       "    <tr>\n",
       "      <th>96728</th>\n",
       "      <td>5142152857</td>\n",
       "      <td>2010-12-31</td>\n",
       "      <td>930090121224</td>\n",
       "      <td>FEDEX SHP 04/03/10 AB#</td>\n",
       "      <td>TN</td>\n",
       "      <td>38118</td>\n",
       "      <td>P</td>\n",
       "      <td>4.43</td>\n",
       "      <td>0</td>\n",
       "    </tr>\n",
       "    <tr>\n",
       "      <th>96729</th>\n",
       "      <td>5142227807</td>\n",
       "      <td>2010-12-31</td>\n",
       "      <td>4503057341100</td>\n",
       "      <td>TECH PAC, INC</td>\n",
       "      <td>OH</td>\n",
       "      <td>45150</td>\n",
       "      <td>P</td>\n",
       "      <td>2487.98</td>\n",
       "      <td>0</td>\n",
       "    </tr>\n",
       "    <tr>\n",
       "      <th>96730</th>\n",
       "      <td>5142198358</td>\n",
       "      <td>2010-12-31</td>\n",
       "      <td>465094667331</td>\n",
       "      <td>AGILENT SAP</td>\n",
       "      <td>GA</td>\n",
       "      <td>30319</td>\n",
       "      <td>P</td>\n",
       "      <td>274.54</td>\n",
       "      <td>0</td>\n",
       "    </tr>\n",
       "    <tr>\n",
       "      <th>96731</th>\n",
       "      <td>5142122644</td>\n",
       "      <td>2010-12-31</td>\n",
       "      <td>NaN</td>\n",
       "      <td>RETAIL DEBIT ADJUSTMENT</td>\n",
       "      <td>NaN</td>\n",
       "      <td>nan</td>\n",
       "      <td>P</td>\n",
       "      <td>340.79</td>\n",
       "      <td>0</td>\n",
       "    </tr>\n",
       "    <tr>\n",
       "      <th>96732</th>\n",
       "      <td>5142190439</td>\n",
       "      <td>2010-12-31</td>\n",
       "      <td>7509000781541</td>\n",
       "      <td>MZI*PC ZONE MAC ZONE</td>\n",
       "      <td>WA</td>\n",
       "      <td>98055</td>\n",
       "      <td>P</td>\n",
       "      <td>47.05</td>\n",
       "      <td>0</td>\n",
       "    </tr>\n",
       "    <tr>\n",
       "      <th>96733</th>\n",
       "      <td>5142276099</td>\n",
       "      <td>2010-12-31</td>\n",
       "      <td>602608969138</td>\n",
       "      <td>FISHER SCI CHI</td>\n",
       "      <td>IL</td>\n",
       "      <td>60143</td>\n",
       "      <td>P</td>\n",
       "      <td>441.53</td>\n",
       "      <td>0</td>\n",
       "    </tr>\n",
       "    <tr>\n",
       "      <th>96734</th>\n",
       "      <td>5142237361</td>\n",
       "      <td>2010-12-31</td>\n",
       "      <td>3500000004991</td>\n",
       "      <td>BEST BUY      00004226</td>\n",
       "      <td>VA</td>\n",
       "      <td>23235</td>\n",
       "      <td>P</td>\n",
       "      <td>114.93</td>\n",
       "      <td>0</td>\n",
       "    </tr>\n",
       "    <tr>\n",
       "      <th>96735</th>\n",
       "      <td>5142166343</td>\n",
       "      <td>2010-12-31</td>\n",
       "      <td>990903450339</td>\n",
       "      <td>OKEECHOBEE NEWS</td>\n",
       "      <td>FL</td>\n",
       "      <td>nan</td>\n",
       "      <td>P</td>\n",
       "      <td>33.17</td>\n",
       "      <td>0</td>\n",
       "    </tr>\n",
       "    <tr>\n",
       "      <th>96736</th>\n",
       "      <td>5142221253</td>\n",
       "      <td>2010-12-31</td>\n",
       "      <td>5725000466504</td>\n",
       "      <td>CDW*GOVERNMENT INC</td>\n",
       "      <td>IL</td>\n",
       "      <td>60061</td>\n",
       "      <td>P</td>\n",
       "      <td>1888.00</td>\n",
       "      <td>0</td>\n",
       "    </tr>\n",
       "    <tr>\n",
       "      <th>96737</th>\n",
       "      <td>5142131889</td>\n",
       "      <td>2010-12-31</td>\n",
       "      <td>4503082476300</td>\n",
       "      <td>OFFICE DEPOT #1082</td>\n",
       "      <td>MD</td>\n",
       "      <td>20763</td>\n",
       "      <td>P</td>\n",
       "      <td>161.50</td>\n",
       "      <td>0</td>\n",
       "    </tr>\n",
       "    <tr>\n",
       "      <th>96738</th>\n",
       "      <td>5142228679</td>\n",
       "      <td>2010-12-31</td>\n",
       "      <td>4503088266600</td>\n",
       "      <td>CINCINNATI CONTAINER</td>\n",
       "      <td>OH</td>\n",
       "      <td>45246</td>\n",
       "      <td>P</td>\n",
       "      <td>114.91</td>\n",
       "      <td>0</td>\n",
       "    </tr>\n",
       "    <tr>\n",
       "      <th>96739</th>\n",
       "      <td>5142165800</td>\n",
       "      <td>2010-12-31</td>\n",
       "      <td>4620006363548</td>\n",
       "      <td>GATEWAY BUSINESS DIRECT</td>\n",
       "      <td>SD</td>\n",
       "      <td>57049</td>\n",
       "      <td>P</td>\n",
       "      <td>1610.40</td>\n",
       "      <td>0</td>\n",
       "    </tr>\n",
       "    <tr>\n",
       "      <th>96740</th>\n",
       "      <td>5142226979</td>\n",
       "      <td>2010-12-31</td>\n",
       "      <td>4481010600872</td>\n",
       "      <td>ABSOLUTE STANDARDS INC</td>\n",
       "      <td>CT</td>\n",
       "      <td>06514</td>\n",
       "      <td>P</td>\n",
       "      <td>165.00</td>\n",
       "      <td>0</td>\n",
       "    </tr>\n",
       "    <tr>\n",
       "      <th>96741</th>\n",
       "      <td>5142264260</td>\n",
       "      <td>2010-12-31</td>\n",
       "      <td>2960000668122</td>\n",
       "      <td>DEL*DELORME PUBLISHING</td>\n",
       "      <td>ME</td>\n",
       "      <td>04032</td>\n",
       "      <td>P</td>\n",
       "      <td>44.95</td>\n",
       "      <td>0</td>\n",
       "    </tr>\n",
       "    <tr>\n",
       "      <th>96742</th>\n",
       "      <td>5142189108</td>\n",
       "      <td>2010-12-31</td>\n",
       "      <td>5725000466504</td>\n",
       "      <td>CDW*GOVERNMENT INC</td>\n",
       "      <td>IL</td>\n",
       "      <td>60061</td>\n",
       "      <td>P</td>\n",
       "      <td>13.59</td>\n",
       "      <td>0</td>\n",
       "    </tr>\n",
       "    <tr>\n",
       "      <th>96743</th>\n",
       "      <td>5142266860</td>\n",
       "      <td>2010-12-31</td>\n",
       "      <td>602608969534</td>\n",
       "      <td>FISHER SCI ATL</td>\n",
       "      <td>GA</td>\n",
       "      <td>30091</td>\n",
       "      <td>P</td>\n",
       "      <td>62.14</td>\n",
       "      <td>0</td>\n",
       "    </tr>\n",
       "    <tr>\n",
       "      <th>96744</th>\n",
       "      <td>5142187448</td>\n",
       "      <td>2010-12-31</td>\n",
       "      <td>5725000466504</td>\n",
       "      <td>CDW*GOVERNMENT INC</td>\n",
       "      <td>IL</td>\n",
       "      <td>60061</td>\n",
       "      <td>P</td>\n",
       "      <td>2231.08</td>\n",
       "      <td>0</td>\n",
       "    </tr>\n",
       "    <tr>\n",
       "      <th>96745</th>\n",
       "      <td>5142160778</td>\n",
       "      <td>2010-12-31</td>\n",
       "      <td>08-0616075333</td>\n",
       "      <td>COMPUTER STORE OF CORVLS</td>\n",
       "      <td>OR</td>\n",
       "      <td>97330</td>\n",
       "      <td>P</td>\n",
       "      <td>243.15</td>\n",
       "      <td>1</td>\n",
       "    </tr>\n",
       "    <tr>\n",
       "      <th>96746</th>\n",
       "      <td>5142226979</td>\n",
       "      <td>2010-12-31</td>\n",
       "      <td>602608969534</td>\n",
       "      <td>FISHER SCI ATL</td>\n",
       "      <td>GA</td>\n",
       "      <td>30091</td>\n",
       "      <td>P</td>\n",
       "      <td>32.04</td>\n",
       "      <td>0</td>\n",
       "    </tr>\n",
       "    <tr>\n",
       "      <th>96747</th>\n",
       "      <td>5142196337</td>\n",
       "      <td>2010-12-31</td>\n",
       "      <td>467619770330</td>\n",
       "      <td>STAY ONLINE</td>\n",
       "      <td>NC</td>\n",
       "      <td>27560</td>\n",
       "      <td>P</td>\n",
       "      <td>147.35</td>\n",
       "      <td>0</td>\n",
       "    </tr>\n",
       "    <tr>\n",
       "      <th>96748</th>\n",
       "      <td>5142221253</td>\n",
       "      <td>2010-12-31</td>\n",
       "      <td>5725000466504</td>\n",
       "      <td>CDW*GOVERNMENT INC</td>\n",
       "      <td>IL</td>\n",
       "      <td>60061</td>\n",
       "      <td>P</td>\n",
       "      <td>425.00</td>\n",
       "      <td>0</td>\n",
       "    </tr>\n",
       "    <tr>\n",
       "      <th>96749</th>\n",
       "      <td>5142276053</td>\n",
       "      <td>2010-12-31</td>\n",
       "      <td>3500000006160</td>\n",
       "      <td>BEST BUY      00001610</td>\n",
       "      <td>KY</td>\n",
       "      <td>41042</td>\n",
       "      <td>P</td>\n",
       "      <td>84.79</td>\n",
       "      <td>0</td>\n",
       "    </tr>\n",
       "    <tr>\n",
       "      <th>96750</th>\n",
       "      <td>5142225701</td>\n",
       "      <td>2010-12-31</td>\n",
       "      <td>8090710030950</td>\n",
       "      <td>MARKUS OFFICE SUPPLIES</td>\n",
       "      <td>OH</td>\n",
       "      <td>45248</td>\n",
       "      <td>P</td>\n",
       "      <td>118.75</td>\n",
       "      <td>0</td>\n",
       "    </tr>\n",
       "    <tr>\n",
       "      <th>96751</th>\n",
       "      <td>5142226486</td>\n",
       "      <td>2010-12-31</td>\n",
       "      <td>4503057341100</td>\n",
       "      <td>TECH PAC, INC</td>\n",
       "      <td>OH</td>\n",
       "      <td>45150</td>\n",
       "      <td>P</td>\n",
       "      <td>363.56</td>\n",
       "      <td>0</td>\n",
       "    </tr>\n",
       "    <tr>\n",
       "      <th>96752</th>\n",
       "      <td>5142244619</td>\n",
       "      <td>2010-12-31</td>\n",
       "      <td>8834000695412</td>\n",
       "      <td>BUY.COM</td>\n",
       "      <td>CA</td>\n",
       "      <td>92656</td>\n",
       "      <td>P</td>\n",
       "      <td>2202.03</td>\n",
       "      <td>0</td>\n",
       "    </tr>\n",
       "    <tr>\n",
       "      <th>96753</th>\n",
       "      <td>5142243247</td>\n",
       "      <td>2010-12-31</td>\n",
       "      <td>9108347680006</td>\n",
       "      <td>STAPLES NATIONAL #471</td>\n",
       "      <td>NJ</td>\n",
       "      <td>07606</td>\n",
       "      <td>P</td>\n",
       "      <td>554.64</td>\n",
       "      <td>0</td>\n",
       "    </tr>\n",
       "  </tbody>\n",
       "</table>\n",
       "<p>96753 rows × 9 columns</p>\n",
       "</div>"
      ],
      "text/plain": [
       "           Cardnum       Date       Merchnum         Merch description  \\\n",
       "Recnum                                                                   \n",
       "1       5142190439 2010-01-01  5509006296254    FEDEX SHP 12/23/09 AB#   \n",
       "2       5142183973 2010-01-01    61003026333   SERVICE MERCHANDISE #81   \n",
       "3       5142131721 2010-01-01  4503082993600         OFFICE DEPOT #191   \n",
       "4       5142148452 2010-01-01  5509006296254    FEDEX SHP 12/28/09 AB#   \n",
       "5       5142190439 2010-01-01  5509006296254    FEDEX SHP 12/23/09 AB#   \n",
       "6       5142149874 2010-01-01  5509006296254    FEDEX SHP 12/22/09 AB#   \n",
       "7       5142189277 2010-01-01  5509006296254    FEDEX SHP 12/28/09 AB#   \n",
       "8       5142191182 2010-01-01  6098208200062     MIAMI COMPUTER SUPPLY   \n",
       "9       5142258629 2010-01-01   602608969534            FISHER SCI ATL   \n",
       "10      5142190439 2010-01-01  5509006296254    FEDEX SHP 12/23/09 AB#   \n",
       "11      5142283088 2010-01-01  5509006296254    FEDEX SHP 12/22/09 AB#   \n",
       "12      5142190439 2010-01-01  5509006296254    FEDEX SHP 12/23/09 AB#   \n",
       "13      5142146134 2010-01-01  5509006296254    FEDEX SHP 12/21/09 AB#   \n",
       "14      5142124791 2010-01-01  5725000466504        CDW*GOVERNMENT INC   \n",
       "15      5142151402 2010-01-01  5725000466504        CDW*GOVERNMENT INC   \n",
       "16      5142148452 2010-01-01  5509006296254    FEDEX SHP 12/22/09 AB#   \n",
       "17      5142148452 2010-01-01  5509006296254    FEDEX SHP 12/28/09 AB#   \n",
       "18      5142125684 2010-01-01  5509006296254    FEDEX SHP 12/22/09 AB#   \n",
       "19      5142139349 2010-01-01  5509006296254    FEDEX SHP 12/23/09 AB#   \n",
       "20      5142190596 2010-01-01   602608969284            FISHER SCI HUS   \n",
       "21      5142190439 2010-01-01  5509006296254    FEDEX SHP 12/22/09 AB#   \n",
       "22      5142190439 2010-01-01  5509006296254    FEDEX SHP 12/23/09 AB#   \n",
       "23      5142190439 2010-01-01  5509006296254    FEDEX SHP 12/22/09 AB#   \n",
       "24      5142217905 2010-01-01  4353000719908    AMAZON.COM  *SUPERSTRE   \n",
       "25      5142152067 2010-01-01  5509006296254    FEDEX SHP 12/21/09 AB#   \n",
       "26      5142146833 2010-01-01  5509006296254    FEDEX SHP 12/21/09 AB#   \n",
       "27      5142183817 2010-01-01  5725000466504        CDW*GOVERNMENT INC   \n",
       "28      5142190439 2010-01-01  5509006296254    FEDEX SHP 12/23/09 AB#   \n",
       "29      5142270480 2010-01-01  5725000466504        CDW*GOVERNMENT INC   \n",
       "30      5142148452 2010-01-01  5509006296254    FEDEX SHP 12/28/09 AB#   \n",
       "...            ...        ...            ...                       ...   \n",
       "96724   5142127070 2010-12-31   620000655290    CC *PC MALL GOVERNMENT   \n",
       "96725   5142178899 2010-12-31  5859063805001    ELECTRONIC SUPPLY CO I   \n",
       "96726   5142253938 2010-12-31  6822408111449    TIMES PI SUBSCRIPTIONS   \n",
       "96727   5142276099 2010-12-31   602608969534            FISHER SCI ATL   \n",
       "96728   5142152857 2010-12-31   930090121224    FEDEX SHP 04/03/10 AB#   \n",
       "96729   5142227807 2010-12-31  4503057341100             TECH PAC, INC   \n",
       "96730   5142198358 2010-12-31   465094667331               AGILENT SAP   \n",
       "96731   5142122644 2010-12-31            NaN   RETAIL DEBIT ADJUSTMENT   \n",
       "96732   5142190439 2010-12-31  7509000781541      MZI*PC ZONE MAC ZONE   \n",
       "96733   5142276099 2010-12-31   602608969138            FISHER SCI CHI   \n",
       "96734   5142237361 2010-12-31  3500000004991    BEST BUY      00004226   \n",
       "96735   5142166343 2010-12-31   990903450339           OKEECHOBEE NEWS   \n",
       "96736   5142221253 2010-12-31  5725000466504        CDW*GOVERNMENT INC   \n",
       "96737   5142131889 2010-12-31  4503082476300        OFFICE DEPOT #1082   \n",
       "96738   5142228679 2010-12-31  4503088266600      CINCINNATI CONTAINER   \n",
       "96739   5142165800 2010-12-31  4620006363548   GATEWAY BUSINESS DIRECT   \n",
       "96740   5142226979 2010-12-31  4481010600872    ABSOLUTE STANDARDS INC   \n",
       "96741   5142264260 2010-12-31  2960000668122    DEL*DELORME PUBLISHING   \n",
       "96742   5142189108 2010-12-31  5725000466504        CDW*GOVERNMENT INC   \n",
       "96743   5142266860 2010-12-31   602608969534            FISHER SCI ATL   \n",
       "96744   5142187448 2010-12-31  5725000466504        CDW*GOVERNMENT INC   \n",
       "96745   5142160778 2010-12-31  08-0616075333  COMPUTER STORE OF CORVLS   \n",
       "96746   5142226979 2010-12-31   602608969534            FISHER SCI ATL   \n",
       "96747   5142196337 2010-12-31   467619770330               STAY ONLINE   \n",
       "96748   5142221253 2010-12-31  5725000466504        CDW*GOVERNMENT INC   \n",
       "96749   5142276053 2010-12-31  3500000006160    BEST BUY      00001610   \n",
       "96750   5142225701 2010-12-31  8090710030950    MARKUS OFFICE SUPPLIES   \n",
       "96751   5142226486 2010-12-31  4503057341100             TECH PAC, INC   \n",
       "96752   5142244619 2010-12-31  8834000695412                   BUY.COM   \n",
       "96753   5142243247 2010-12-31  9108347680006     STAPLES NATIONAL #471   \n",
       "\n",
       "       Merch state Merch zip Transtype   Amount Fraud  \n",
       "Recnum                                                 \n",
       "1               TN     38118         P     3.62     0  \n",
       "2               MA     01803         P    31.42     0  \n",
       "3               MD     20706         P   178.49     0  \n",
       "4               TN     38118         P     3.62     0  \n",
       "5               TN     38118         P     3.62     0  \n",
       "6               TN     38118         P     3.67     0  \n",
       "7               TN     38118         P     3.62     0  \n",
       "8               OH     45429         P   230.32     0  \n",
       "9               GA     30091         P    62.11     0  \n",
       "10              TN     38118         P     3.62     0  \n",
       "11              TN     38118         P     3.62     0  \n",
       "12              TN     38118         P     3.62     0  \n",
       "13              TN     38118         P     3.85     0  \n",
       "14              IL     60061         P   106.89     0  \n",
       "15              IL     60061         P   137.45     0  \n",
       "16              TN     38118         P     3.74     0  \n",
       "17              TN     38118         P     3.80     0  \n",
       "18              TN     38118         P     3.67     0  \n",
       "19              TN     38118         P     3.67     0  \n",
       "20              TX     77251         P   218.57     0  \n",
       "21              TN     38118         P     3.62     0  \n",
       "22              TN     38118         P     3.62     0  \n",
       "23              TN     38118         P     3.67     0  \n",
       "24              WA     98101         P    68.90     0  \n",
       "25              TN     38118         P     3.67     0  \n",
       "26              TN     38118         P     3.62     0  \n",
       "27              IL     60061         P   360.00     0  \n",
       "28              TN     38118         P     3.62     0  \n",
       "29              IL     60061         P   427.00     0  \n",
       "30              TN     38118         P     3.80     0  \n",
       "...            ...       ...       ...      ...   ...  \n",
       "96724           CA     90503         P   179.99     0  \n",
       "96725           MO     64111         P   144.80     0  \n",
       "96726           WA     98109         P   106.60     0  \n",
       "96727           GA     30091         P   208.36     0  \n",
       "96728           TN     38118         P     4.43     0  \n",
       "96729           OH     45150         P  2487.98     0  \n",
       "96730           GA     30319         P   274.54     0  \n",
       "96731          NaN       nan         P   340.79     0  \n",
       "96732           WA     98055         P    47.05     0  \n",
       "96733           IL     60143         P   441.53     0  \n",
       "96734           VA     23235         P   114.93     0  \n",
       "96735           FL       nan         P    33.17     0  \n",
       "96736           IL     60061         P  1888.00     0  \n",
       "96737           MD     20763         P   161.50     0  \n",
       "96738           OH     45246         P   114.91     0  \n",
       "96739           SD     57049         P  1610.40     0  \n",
       "96740           CT     06514         P   165.00     0  \n",
       "96741           ME     04032         P    44.95     0  \n",
       "96742           IL     60061         P    13.59     0  \n",
       "96743           GA     30091         P    62.14     0  \n",
       "96744           IL     60061         P  2231.08     0  \n",
       "96745           OR     97330         P   243.15     1  \n",
       "96746           GA     30091         P    32.04     0  \n",
       "96747           NC     27560         P   147.35     0  \n",
       "96748           IL     60061         P   425.00     0  \n",
       "96749           KY     41042         P    84.79     0  \n",
       "96750           OH     45248         P   118.75     0  \n",
       "96751           OH     45150         P   363.56     0  \n",
       "96752           CA     92656         P  2202.03     0  \n",
       "96753           NJ     07606         P   554.64     0  \n",
       "\n",
       "[96753 rows x 9 columns]"
      ]
     },
     "execution_count": 9,
     "metadata": {},
     "output_type": "execute_result"
    }
   ],
   "source": [
    "transac.set_index('Recnum')"
   ]
  },
  {
   "cell_type": "code",
   "execution_count": 10,
   "metadata": {},
   "outputs": [
    {
     "name": "stdout",
     "output_type": "stream",
     "text": [
      "min date: 2010-01-01, max date 2010-12-31\n"
     ]
    }
   ],
   "source": [
    "print(\"min date: %s, max date %s\" %(transac['Date'].min().date(), transac['Date'].max().date()))   \n",
    "      "
   ]
  },
  {
   "cell_type": "markdown",
   "metadata": {},
   "source": [
    "The transaction date range is from Feb28, 2010 to Dec31, 2010."
   ]
  },
  {
   "cell_type": "code",
   "execution_count": 11,
   "metadata": {},
   "outputs": [
    {
     "data": {
      "text/html": [
       "<div>\n",
       "<style scoped>\n",
       "    .dataframe tbody tr th:only-of-type {\n",
       "        vertical-align: middle;\n",
       "    }\n",
       "\n",
       "    .dataframe tbody tr th {\n",
       "        vertical-align: top;\n",
       "    }\n",
       "\n",
       "    .dataframe thead th {\n",
       "        text-align: right;\n",
       "    }\n",
       "</style>\n",
       "<table border=\"1\" class=\"dataframe\">\n",
       "  <thead>\n",
       "    <tr style=\"text-align: right;\">\n",
       "      <th></th>\n",
       "      <th>Amount</th>\n",
       "    </tr>\n",
       "  </thead>\n",
       "  <tbody>\n",
       "    <tr>\n",
       "      <th>count</th>\n",
       "      <td>9.675300e+04</td>\n",
       "    </tr>\n",
       "    <tr>\n",
       "      <th>mean</th>\n",
       "      <td>4.278857e+02</td>\n",
       "    </tr>\n",
       "    <tr>\n",
       "      <th>std</th>\n",
       "      <td>1.000614e+04</td>\n",
       "    </tr>\n",
       "    <tr>\n",
       "      <th>min</th>\n",
       "      <td>1.000000e-02</td>\n",
       "    </tr>\n",
       "    <tr>\n",
       "      <th>25%</th>\n",
       "      <td>3.348000e+01</td>\n",
       "    </tr>\n",
       "    <tr>\n",
       "      <th>50%</th>\n",
       "      <td>1.379800e+02</td>\n",
       "    </tr>\n",
       "    <tr>\n",
       "      <th>75%</th>\n",
       "      <td>4.282000e+02</td>\n",
       "    </tr>\n",
       "    <tr>\n",
       "      <th>max</th>\n",
       "      <td>3.102046e+06</td>\n",
       "    </tr>\n",
       "  </tbody>\n",
       "</table>\n",
       "</div>"
      ],
      "text/plain": [
       "             Amount\n",
       "count  9.675300e+04\n",
       "mean   4.278857e+02\n",
       "std    1.000614e+04\n",
       "min    1.000000e-02\n",
       "25%    3.348000e+01\n",
       "50%    1.379800e+02\n",
       "75%    4.282000e+02\n",
       "max    3.102046e+06"
      ]
     },
     "execution_count": 11,
     "metadata": {},
     "output_type": "execute_result"
    }
   ],
   "source": [
    "transac.describe()"
   ]
  },
  {
   "cell_type": "markdown",
   "metadata": {},
   "source": [
    "<a id='recnum'></a>\n",
    "\n",
    "###### Recnum"
   ]
  },
  {
   "cell_type": "markdown",
   "metadata": {},
   "source": [
    "I have transformed this column into index of the transac dataframe since the recnum column just gives a number of order to all the transactions and doesn't provide us with any useful information for further modeling.\n",
    "\n",
    "It has no missing value."
   ]
  },
  {
   "cell_type": "markdown",
   "metadata": {},
   "source": [
    "<a id='cardnum'></a>\n",
    "\n",
    "###### Cardnum"
   ]
  },
  {
   "cell_type": "code",
   "execution_count": 12,
   "metadata": {},
   "outputs": [
    {
     "data": {
      "text/plain": [
       "count    1645.000000\n",
       "mean       58.816413\n",
       "std        84.571255\n",
       "min         1.000000\n",
       "25%        10.000000\n",
       "50%        30.000000\n",
       "75%        73.000000\n",
       "max      1192.000000\n",
       "Name: Cardnum, dtype: float64"
      ]
     },
     "execution_count": 12,
     "metadata": {},
     "output_type": "execute_result"
    }
   ],
   "source": [
    "transac.Cardnum.value_counts().describe()"
   ]
  },
  {
   "cell_type": "markdown",
   "metadata": {},
   "source": [
    "'Cardnum' column records the number of the card that are used in this specific transaction. Each card number represents one card.\n",
    "\n",
    "There is no missing value in this column.\n",
    "\n",
    "The transaction frequency during 2010 for each card is quite diversed. We can see from the description of the value counts that the most frequently transacted card are used over 1000 times in 2010. While the majority of the cards are used less than 100 times during a year. "
   ]
  },
  {
   "cell_type": "markdown",
   "metadata": {},
   "source": [
    "<a id='date'></a>\n",
    "\n",
    "###### Date"
   ]
  },
  {
   "cell_type": "markdown",
   "metadata": {},
   "source": [
    "Date has no missing values.\n",
    "\n",
    "Since date may give us other information of fraud and non fraud transaction patterns(day of week, month, etc) I would like to explore more about this column.\n"
   ]
  },
  {
   "cell_type": "code",
   "execution_count": 13,
   "metadata": {},
   "outputs": [],
   "source": [
    "transac['Date'].apply(lambda x:x.weekday()).value_counts()\n",
    "transac['Month']= transac['Date'].apply(lambda x:x.month)\n",
    "transac['Day_of_week'] = transac['Date'].apply(lambda x:x.weekday())\n",
    "transac['Day_of_year'] = transac['Date'].apply(lambda x:x.dayofyear)"
   ]
  },
  {
   "cell_type": "code",
   "execution_count": 14,
   "metadata": {},
   "outputs": [],
   "source": [
    "\n",
    "transac['Day_of_week'] = ['Monday' if weekday==0 else 'Tuesday' if weekday ==1 else 'Wednesday' if weekday ==2 else 'Thursday' if weekday ==3 else 'Friday' if weekday ==4  else 'Saturday' if weekday ==5 else 'Sunday' for weekday in list(transac['Day_of_week'])]\n",
    "\n"
   ]
  },
  {
   "cell_type": "markdown",
   "metadata": {},
   "source": [
    "<a id='merchnum'></a>\n",
    "\n",
    "###### Merchnum"
   ]
  },
  {
   "cell_type": "code",
   "execution_count": 15,
   "metadata": {},
   "outputs": [
    {
     "data": {
      "text/plain": [
       "3375"
      ]
     },
     "execution_count": 15,
     "metadata": {},
     "output_type": "execute_result"
    }
   ],
   "source": [
    "transac['Merchnum'].isna().sum()"
   ]
  },
  {
   "cell_type": "markdown",
   "metadata": {},
   "source": [
    "There are 3375 missing values in this columns. These missing values can't be imputed using indecators from other columns. Even though two transactions have the same merchant descriptions, it doesn't necessarily mean that they are from the same merchant."
   ]
  },
  {
   "cell_type": "markdown",
   "metadata": {},
   "source": [
    "<a id='merchdesc'></a>\n",
    "\n",
    "#### Merch Description"
   ]
  },
  {
   "cell_type": "code",
   "execution_count": 16,
   "metadata": {},
   "outputs": [
    {
     "data": {
      "text/plain": [
       "0"
      ]
     },
     "execution_count": 16,
     "metadata": {},
     "output_type": "execute_result"
    }
   ],
   "source": [
    "transac['Merch description'].isna().sum()"
   ]
  },
  {
   "cell_type": "markdown",
   "metadata": {},
   "source": [
    "There are no missing values in Merch Description column."
   ]
  },
  {
   "cell_type": "code",
   "execution_count": 17,
   "metadata": {},
   "outputs": [
    {
     "data": {
      "text/plain": [
       "GSA-FSS-ADV               1688\n",
       "SIGMA-ALDRICH             1635\n",
       "STAPLES #941              1174\n",
       "FISHER SCI ATL            1093\n",
       "MWI*MICRO WAREHOUSE        958\n",
       "CDW*GOVERNMENT INC         872\n",
       "DELL MARKETING L.P.        816\n",
       "FISHER SCI CHI             783\n",
       "AMAZON.COM  *SUPERSTOR     750\n",
       "OFFICE DEPOT #1082         748\n",
       "Name: Merch description, dtype: int64"
      ]
     },
     "execution_count": 17,
     "metadata": {},
     "output_type": "execute_result"
    }
   ],
   "source": [
    "transac['Merch description'].value_counts().head(10)"
   ]
  },
  {
   "cell_type": "markdown",
   "metadata": {},
   "source": [
    "<a id='merchstate'></a>\n",
    "\n",
    "###### Merch State"
   ]
  },
  {
   "cell_type": "code",
   "execution_count": 18,
   "metadata": {},
   "outputs": [
    {
     "data": {
      "text/plain": [
       "1195"
      ]
     },
     "execution_count": 18,
     "metadata": {},
     "output_type": "execute_result"
    }
   ],
   "source": [
    "transac['Merch state'].isna().sum()"
   ]
  },
  {
   "cell_type": "markdown",
   "metadata": {},
   "source": [
    "There are 1195 missing values in this column. This can be possibly imputed or inferenced from the Merch zip column."
   ]
  },
  {
   "cell_type": "markdown",
   "metadata": {},
   "source": [
    "<a id='merchzip'></a>\n",
    "\n",
    "###### Merch zip"
   ]
  },
  {
   "cell_type": "code",
   "execution_count": 19,
   "metadata": {},
   "outputs": [
    {
     "data": {
      "text/plain": [
       "0"
      ]
     },
     "execution_count": 19,
     "metadata": {},
     "output_type": "execute_result"
    }
   ],
   "source": [
    "transac['Merch zip'].isna().sum()"
   ]
  },
  {
   "cell_type": "code",
   "execution_count": 20,
   "metadata": {
    "scrolled": true
   },
   "outputs": [
    {
     "data": {
      "text/plain": [
       "4656"
      ]
     },
     "execution_count": 20,
     "metadata": {},
     "output_type": "execute_result"
    }
   ],
   "source": [
    "sum(transac['Merch zip']== 'nan')"
   ]
  },
  {
   "cell_type": "markdown",
   "metadata": {},
   "source": [
    "Although there is no NaN value in this column, since I have transformed this column into a character, so the original nan value has also been transformed to strings. As we can see, there should be 4656 misssing values in this column."
   ]
  },
  {
   "cell_type": "markdown",
   "metadata": {},
   "source": [
    "<a id='transtype'></a>\n",
    "\n",
    "###### Transtype"
   ]
  },
  {
   "cell_type": "markdown",
   "metadata": {},
   "source": [
    "The column 'Transtype' stands for 'transaction type'."
   ]
  },
  {
   "cell_type": "code",
   "execution_count": 21,
   "metadata": {},
   "outputs": [
    {
     "data": {
      "text/plain": [
       "0"
      ]
     },
     "execution_count": 21,
     "metadata": {},
     "output_type": "execute_result"
    }
   ],
   "source": [
    "transac['Transtype'].isna().sum()"
   ]
  },
  {
   "cell_type": "code",
   "execution_count": 22,
   "metadata": {},
   "outputs": [
    {
     "data": {
      "text/plain": [
       "0"
      ]
     },
     "execution_count": 22,
     "metadata": {},
     "output_type": "execute_result"
    }
   ],
   "source": [
    "sum(transac['Transtype']== 'nan')"
   ]
  },
  {
   "cell_type": "markdown",
   "metadata": {},
   "source": [
    "Transtype column has 0 missing values. Category and frequency of Transtype:"
   ]
  },
  {
   "cell_type": "code",
   "execution_count": 23,
   "metadata": {},
   "outputs": [
    {
     "data": {
      "text/plain": [
       "P    96398\n",
       "A      181\n",
       "D      173\n",
       "Y        1\n",
       "Name: Transtype, dtype: int64"
      ]
     },
     "execution_count": 23,
     "metadata": {},
     "output_type": "execute_result"
    }
   ],
   "source": [
    "transac['Transtype'].value_counts()"
   ]
  },
  {
   "cell_type": "markdown",
   "metadata": {},
   "source": [
    "The most frequent transaction type is P. But there is no clue provided by the professor what the four character strands for.\n",
    "\n",
    "I searched online about [transaction types](https://www.paypalobjects.com/en_US/vhelp/paypalmanager_help/transaction_type_codes.htm). \n",
    "\n",
    "P = Prenote, A = Authorization, D = Delayed Capture.\n",
    "\n",
    "The reference website doesn't have a label of 'Y' type transaction.\n",
    "\n",
    "Since there is only one transaction is labelled 'Y' in this dataset and it's not a fraud transaction. I decide to ignore this type of transaction for now."
   ]
  },
  {
   "cell_type": "code",
   "execution_count": 24,
   "metadata": {},
   "outputs": [
    {
     "data": {
      "text/html": [
       "<div>\n",
       "<style scoped>\n",
       "    .dataframe tbody tr th:only-of-type {\n",
       "        vertical-align: middle;\n",
       "    }\n",
       "\n",
       "    .dataframe tbody tr th {\n",
       "        vertical-align: top;\n",
       "    }\n",
       "\n",
       "    .dataframe thead th {\n",
       "        text-align: right;\n",
       "    }\n",
       "</style>\n",
       "<table border=\"1\" class=\"dataframe\">\n",
       "  <thead>\n",
       "    <tr style=\"text-align: right;\">\n",
       "      <th></th>\n",
       "      <th>Recnum</th>\n",
       "      <th>Cardnum</th>\n",
       "      <th>Date</th>\n",
       "      <th>Merchnum</th>\n",
       "      <th>Merch description</th>\n",
       "      <th>Merch state</th>\n",
       "      <th>Merch zip</th>\n",
       "      <th>Transtype</th>\n",
       "      <th>Amount</th>\n",
       "      <th>Fraud</th>\n",
       "      <th>Month</th>\n",
       "      <th>Day_of_week</th>\n",
       "      <th>Day_of_year</th>\n",
       "    </tr>\n",
       "  </thead>\n",
       "  <tbody>\n",
       "    <tr>\n",
       "      <th>66908</th>\n",
       "      <td>66909</td>\n",
       "      <td>5142212486</td>\n",
       "      <td>2010-08-24</td>\n",
       "      <td>NaN</td>\n",
       "      <td>PAYMENT ADJUSTMENT</td>\n",
       "      <td>NaN</td>\n",
       "      <td>nan</td>\n",
       "      <td>Y</td>\n",
       "      <td>85.21</td>\n",
       "      <td>0</td>\n",
       "      <td>8</td>\n",
       "      <td>Tuesday</td>\n",
       "      <td>236</td>\n",
       "    </tr>\n",
       "  </tbody>\n",
       "</table>\n",
       "</div>"
      ],
      "text/plain": [
       "      Recnum     Cardnum       Date Merchnum   Merch description Merch state  \\\n",
       "66908  66909  5142212486 2010-08-24      NaN  PAYMENT ADJUSTMENT         NaN   \n",
       "\n",
       "      Merch zip Transtype  Amount Fraud  Month Day_of_week  Day_of_year  \n",
       "66908       nan         Y   85.21     0      8     Tuesday          236  "
      ]
     },
     "execution_count": 24,
     "metadata": {},
     "output_type": "execute_result"
    }
   ],
   "source": [
    "transac.loc[transac['Transtype']=='Y']"
   ]
  },
  {
   "cell_type": "markdown",
   "metadata": {},
   "source": [
    "<a id='amount'></a>\n",
    "\n",
    "\n",
    "###### Amount"
   ]
  },
  {
   "cell_type": "markdown",
   "metadata": {},
   "source": [
    "Amount is the dollar spent amount of this transaction. There is no missing values in this column."
   ]
  },
  {
   "cell_type": "code",
   "execution_count": 25,
   "metadata": {},
   "outputs": [
    {
     "data": {
      "text/plain": [
       "0"
      ]
     },
     "execution_count": 25,
     "metadata": {},
     "output_type": "execute_result"
    }
   ],
   "source": [
    "transac['Amount'].isna().sum()"
   ]
  },
  {
   "cell_type": "code",
   "execution_count": 26,
   "metadata": {},
   "outputs": [
    {
     "data": {
      "text/plain": [
       "count    9.675300e+04\n",
       "mean     4.278857e+02\n",
       "std      1.000614e+04\n",
       "min      1.000000e-02\n",
       "25%      3.348000e+01\n",
       "50%      1.379800e+02\n",
       "75%      4.282000e+02\n",
       "max      3.102046e+06\n",
       "Name: Amount, dtype: float64"
      ]
     },
     "execution_count": 26,
     "metadata": {},
     "output_type": "execute_result"
    }
   ],
   "source": [
    "transac['Amount'].describe()"
   ]
  },
  {
   "cell_type": "markdown",
   "metadata": {},
   "source": [
    "Most transaction amount is below $5000. There are only 314 transactions out of 96753 are over $5000."
   ]
  },
  {
   "cell_type": "markdown",
   "metadata": {},
   "source": [
    "<a id='fraud'></a>\n",
    "\n",
    "###### Fraud"
   ]
  },
  {
   "cell_type": "markdown",
   "metadata": {},
   "source": [
    "There is no missing values in this column. Fraud would be the target variable in the modeling part.\n",
    "\n",
    "There are only 1059 fraud transations out of 96753 transactions, i.e., 1.1%."
   ]
  },
  {
   "cell_type": "code",
   "execution_count": 27,
   "metadata": {},
   "outputs": [
    {
     "data": {
      "text/html": [
       "<div>\n",
       "<style scoped>\n",
       "    .dataframe tbody tr th:only-of-type {\n",
       "        vertical-align: middle;\n",
       "    }\n",
       "\n",
       "    .dataframe tbody tr th {\n",
       "        vertical-align: top;\n",
       "    }\n",
       "\n",
       "    .dataframe thead th {\n",
       "        text-align: right;\n",
       "    }\n",
       "</style>\n",
       "<table border=\"1\" class=\"dataframe\">\n",
       "  <thead>\n",
       "    <tr style=\"text-align: right;\">\n",
       "      <th></th>\n",
       "      <th>Fraud</th>\n",
       "    </tr>\n",
       "  </thead>\n",
       "  <tbody>\n",
       "    <tr>\n",
       "      <th>0</th>\n",
       "      <td>95694</td>\n",
       "    </tr>\n",
       "    <tr>\n",
       "      <th>1</th>\n",
       "      <td>1059</td>\n",
       "    </tr>\n",
       "  </tbody>\n",
       "</table>\n",
       "</div>"
      ],
      "text/plain": [
       "   Fraud\n",
       "0  95694\n",
       "1   1059"
      ]
     },
     "execution_count": 27,
     "metadata": {},
     "output_type": "execute_result"
    }
   ],
   "source": [
    "pd.DataFrame(transac['Fraud'].value_counts())"
   ]
  },
  {
   "cell_type": "markdown",
   "metadata": {},
   "source": [
    "<a id='visualization'></a>\n",
    "\n",
    "#### Visualization"
   ]
  },
  {
   "cell_type": "code",
   "execution_count": 28,
   "metadata": {},
   "outputs": [
    {
     "data": {
      "image/png": "[encoded data removed]",
      "text/plain": [
       "<Figure size 432x288 with 1 Axes>"
      ]
     },
     "metadata": {
      "needs_background": "light"
     },
     "output_type": "display_data"
    }
   ],
   "source": [
    "# Since there is only 1% of the transactions are fraud transactions, \n",
    "# the fraud transaction on the bar plot with the y axis of transaction count would be very short compared to not fraud transactions.\n",
    "\n",
    "# So I use log-scaled transaction counts here and add the actual number of the \n",
    "# transactions in case readers are mislead by the height of the bar plot.\n",
    "fraud_counts = pd.DataFrame(transac['Fraud'].value_counts())\n",
    "\n",
    "plt.bar(fraud_counts.index, np.log(fraud_counts.Fraud), label = fraud_counts.Fraud, color = '#eeefff')\n",
    "plt.xlabel('Fraud or Not Fraud')\n",
    "plt.ylabel('Log-scaled Transaction Count')\n",
    "plt.text(0, 11, fraud_counts.iloc[0]['Fraud'],horizontalalignment='center')\n",
    "plt.text(1, 6.5, fraud_counts.iloc[1]['Fraud'],horizontalalignment='center')\n",
    "plt.title('Distribution of Fraud Transaction')\n",
    "plt.show()"
   ]
  },
  {
   "cell_type": "code",
   "execution_count": 29,
   "metadata": {},
   "outputs": [],
   "source": [
    "bymonth_transac = transac.groupby([\"Month\",'Fraud'])"
   ]
  },
  {
   "cell_type": "code",
   "execution_count": 30,
   "metadata": {
    "scrolled": true
   },
   "outputs": [
    {
     "data": {
      "text/html": [
       "<div>\n",
       "<style scoped>\n",
       "    .dataframe tbody tr th:only-of-type {\n",
       "        vertical-align: middle;\n",
       "    }\n",
       "\n",
       "    .dataframe tbody tr th {\n",
       "        vertical-align: top;\n",
       "    }\n",
       "\n",
       "    .dataframe thead th {\n",
       "        text-align: right;\n",
       "    }\n",
       "</style>\n",
       "<table border=\"1\" class=\"dataframe\">\n",
       "  <thead>\n",
       "    <tr style=\"text-align: right;\">\n",
       "      <th></th>\n",
       "      <th></th>\n",
       "      <th>Amount</th>\n",
       "      <th>Day_of_year</th>\n",
       "    </tr>\n",
       "    <tr>\n",
       "      <th>Month</th>\n",
       "      <th>Fraud</th>\n",
       "      <th></th>\n",
       "      <th></th>\n",
       "    </tr>\n",
       "  </thead>\n",
       "  <tbody>\n",
       "    <tr>\n",
       "      <th rowspan=\"2\" valign=\"top\">1</th>\n",
       "      <th>0</th>\n",
       "      <td>2403030.13</td>\n",
       "      <td>110189</td>\n",
       "    </tr>\n",
       "    <tr>\n",
       "      <th>1</th>\n",
       "      <td>9328.09</td>\n",
       "      <td>317</td>\n",
       "    </tr>\n",
       "    <tr>\n",
       "      <th rowspan=\"2\" valign=\"top\">2</th>\n",
       "      <th>0</th>\n",
       "      <td>2744348.12</td>\n",
       "      <td>348052</td>\n",
       "    </tr>\n",
       "    <tr>\n",
       "      <th>1</th>\n",
       "      <td>9613.17</td>\n",
       "      <td>767</td>\n",
       "    </tr>\n",
       "    <tr>\n",
       "      <th>3</th>\n",
       "      <th>0</th>\n",
       "      <td>3296710.10</td>\n",
       "      <td>705942</td>\n",
       "    </tr>\n",
       "  </tbody>\n",
       "</table>\n",
       "</div>"
      ],
      "text/plain": [
       "                 Amount  Day_of_year\n",
       "Month Fraud                         \n",
       "1     0      2403030.13       110189\n",
       "      1         9328.09          317\n",
       "2     0      2744348.12       348052\n",
       "      1         9613.17          767\n",
       "3     0      3296710.10       705942"
      ]
     },
     "execution_count": 30,
     "metadata": {},
     "output_type": "execute_result"
    }
   ],
   "source": [
    "amount_dist_month_fraud = bymonth_transac.sum()\n",
    "amount_dist_month_fraud.head()"
   ]
  },
  {
   "cell_type": "code",
   "execution_count": 31,
   "metadata": {},
   "outputs": [
    {
     "data": {
      "text/plain": [
       "<matplotlib.axes._subplots.AxesSubplot at 0x1c22148630>"
      ]
     },
     "execution_count": 31,
     "metadata": {},
     "output_type": "execute_result"
    },
    {
     "data": {
      "image/png": "[encoded data removed]",
      "text/plain": [
       "<Figure size 432x288 with 1 Axes>"
      ]
     },
     "metadata": {
      "needs_background": "light"
     },
     "output_type": "display_data"
    }
   ],
   "source": [
    "amount_dist_month_fraud.unstack().plot(kind= 'bar' , stacked= False)\n"
   ]
  },
  {
   "cell_type": "code",
   "execution_count": 32,
   "metadata": {},
   "outputs": [],
   "source": [
    "byday_transac = transac[['Recnum','Day_of_year','Fraud']].groupby([\"Day_of_year\",'Fraud']).count()\n"
   ]
  },
  {
   "cell_type": "code",
   "execution_count": 33,
   "metadata": {},
   "outputs": [
    {
     "data": {
      "text/plain": [
       "array([<matplotlib.axes._subplots.AxesSubplot object at 0x1c1f3f46a0>,\n",
       "       <matplotlib.axes._subplots.AxesSubplot object at 0x1c1fb106d8>],\n",
       "      dtype=object)"
      ]
     },
     "execution_count": 33,
     "metadata": {},
     "output_type": "execute_result"
    },
    {
     "data": {
      "image/png": "[encoded data removed]",
      "text/plain": [
       "<Figure size 432x288 with 2 Axes>"
      ]
     },
     "metadata": {
      "needs_background": "light"
     },
     "output_type": "display_data"
    }
   ],
   "source": [
    "byday_transac.unstack().plot(kind= 'bar',stacked = False, legend = True, subplots= True, use_index=False, title ='Number of Fraud and Non-Fraud Transaction Distribution over 2010' )"
   ]
  },
  {
   "cell_type": "code",
   "execution_count": 34,
   "metadata": {},
   "outputs": [
    {
     "data": {
      "text/plain": [
       "4656"
      ]
     },
     "execution_count": 34,
     "metadata": {},
     "output_type": "execute_result"
    }
   ],
   "source": [
    "transac['Merch_state_na']= transac['Merch state'].isna()\n",
    "transac['Merch_zip_na']= transac['Merch zip']== 'nan'\n",
    "transac['Merchnum_na']= transac['Merchnum'].isna()\n",
    "\n",
    "transac['Merch_zip_na'].sum()"
   ]
  },
  {
   "cell_type": "code",
   "execution_count": 35,
   "metadata": {},
   "outputs": [],
   "source": [
    "def missing_matters(column_name):\n",
    "    df  = transac.groupby([column_name,'Fraud']).count()\n",
    "    df2 = pd.DataFrame(pd.concat([df['Recnum'].loc[False] / df['Recnum'].loc[False].sum() *100 ,df['Recnum'].loc[True]/ df['Recnum'].loc[True].sum()*100]))\n",
    "    df2['missing'] = ['not_na','not_na','na', 'na']\n",
    "    df2['Fraud'] = [0,1,0,1]\n",
    "    df2.set_index(['missing','Fraud'], inplace =True)\n",
    "    ax = df2.unstack().plot(kind='bar', title = 'Fraud Transaction Proportion when %s is True and False' % column_name)\n"
   ]
  },
  {
   "cell_type": "code",
   "execution_count": 36,
   "metadata": {},
   "outputs": [
    {
     "data": {
      "image/png": "[encoded data removed]",
      "text/plain": [
       "<Figure size 432x288 with 1 Axes>"
      ]
     },
     "metadata": {
      "needs_background": "light"
     },
     "output_type": "display_data"
    },
    {
     "data": {
      "image/png": "[encoded data removed]",
      "text/plain": [
       "<Figure size 432x288 with 1 Axes>"
      ]
     },
     "metadata": {
      "needs_background": "light"
     },
     "output_type": "display_data"
    },
    {
     "data": {
      "image/png": "[encoded data removed]",
      "text/plain": [
       "<Figure size 432x288 with 1 Axes>"
      ]
     },
     "metadata": {
      "needs_background": "light"
     },
     "output_type": "display_data"
    }
   ],
   "source": [
    "ax1 = missing_matters('Merch_state_na')\n",
    "ax2 = missing_matters('Merchnum_na')\n",
    "ax3 = missing_matters('Merch_zip_na')"
   ]
  },
  {
   "cell_type": "code",
   "execution_count": 37,
   "metadata": {
    "scrolled": true
   },
   "outputs": [
    {
     "data": {
      "image/png": "[encoded data removed]",
      "text/plain": [
       "<Figure size 432x288 with 1 Axes>"
      ]
     },
     "metadata": {
      "needs_background": "light"
     },
     "output_type": "display_data"
    }
   ],
   "source": [
    "missing_matters('Merch_state_na')"
   ]
  },
  {
   "cell_type": "code",
   "execution_count": 38,
   "metadata": {},
   "outputs": [
    {
     "data": {
      "image/png": "[encoded data removed]",
      "text/plain": [
       "<Figure size 432x288 with 1 Axes>"
      ]
     },
     "metadata": {
      "needs_background": "light"
     },
     "output_type": "display_data"
    }
   ],
   "source": [
    "missing_matters('Merchnum_na')"
   ]
  },
  {
   "cell_type": "code",
   "execution_count": 39,
   "metadata": {},
   "outputs": [
    {
     "data": {
      "image/png": "[encoded data removed]",
      "text/plain": [
       "<Figure size 432x288 with 1 Axes>"
      ]
     },
     "metadata": {
      "needs_background": "light"
     },
     "output_type": "display_data"
    }
   ],
   "source": [
    "missing_matters('Merch_zip_na')"
   ]
  },
  {
   "cell_type": "code",
   "execution_count": 40,
   "metadata": {
    "scrolled": true
   },
   "outputs": [
    {
     "data": {
      "text/html": [
       "<div>\n",
       "<style scoped>\n",
       "    .dataframe tbody tr th:only-of-type {\n",
       "        vertical-align: middle;\n",
       "    }\n",
       "\n",
       "    .dataframe tbody tr th {\n",
       "        vertical-align: top;\n",
       "    }\n",
       "\n",
       "    .dataframe thead th {\n",
       "        text-align: right;\n",
       "    }\n",
       "</style>\n",
       "<table border=\"1\" class=\"dataframe\">\n",
       "  <thead>\n",
       "    <tr style=\"text-align: right;\">\n",
       "      <th></th>\n",
       "      <th></th>\n",
       "      <th>Recnum</th>\n",
       "    </tr>\n",
       "    <tr>\n",
       "      <th>missing</th>\n",
       "      <th>Fraud</th>\n",
       "      <th></th>\n",
       "    </tr>\n",
       "  </thead>\n",
       "  <tbody>\n",
       "    <tr>\n",
       "      <th rowspan=\"2\" valign=\"top\">not_na</th>\n",
       "      <th>0</th>\n",
       "      <td>98.879822</td>\n",
       "    </tr>\n",
       "    <tr>\n",
       "      <th>1</th>\n",
       "      <td>1.120178</td>\n",
       "    </tr>\n",
       "    <tr>\n",
       "      <th rowspan=\"2\" valign=\"top\">na</th>\n",
       "      <th>0</th>\n",
       "      <td>99.614815</td>\n",
       "    </tr>\n",
       "    <tr>\n",
       "      <th>1</th>\n",
       "      <td>0.385185</td>\n",
       "    </tr>\n",
       "  </tbody>\n",
       "</table>\n",
       "</div>"
      ],
      "text/plain": [
       "                  Recnum\n",
       "missing Fraud           \n",
       "not_na  0      98.879822\n",
       "        1       1.120178\n",
       "na      0      99.614815\n",
       "        1       0.385185"
      ]
     },
     "execution_count": 40,
     "metadata": {},
     "output_type": "execute_result"
    },
    {
     "data": {
      "image/png": "[encoded data removed]",
      "text/plain": [
       "<Figure size 432x288 with 1 Axes>"
      ]
     },
     "metadata": {
      "needs_background": "light"
     },
     "output_type": "display_data"
    }
   ],
   "source": [
    "df  = transac.groupby(['Merchnum_na','Fraud']).count()\n",
    "df.head()\n",
    "df2 = pd.DataFrame(pd.concat([df['Recnum'].loc[False] / df['Recnum'].loc[False].sum() *100 ,df['Recnum'].loc[True]/ df['Recnum'].loc[True].sum()*100]))\n",
    "\n",
    "df2['missing'] = ['not_na','not_na','na', 'na']\n",
    "df2['Fraud'] = [0,1,0,1]\n",
    "\n",
    "df2.set_index(['missing','Fraud'], inplace =True)\n",
    "\n",
    "ax = df2.unstack().plot(kind='bar', title = 'Fraud Transaction Proportion when %s is missing and not missing' % 'Merchnum')\n",
    "\n",
    "df2"
   ]
  },
  {
   "cell_type": "code",
   "execution_count": 41,
   "metadata": {},
   "outputs": [
    {
     "data": {
      "text/plain": [
       "<matplotlib.axes._subplots.AxesSubplot at 0x1c21a533c8>"
      ]
     },
     "execution_count": 41,
     "metadata": {},
     "output_type": "execute_result"
    },
    {
     "data": {
      "image/png": "[encoded data removed]",
      "text/plain": [
       "<Figure size 432x288 with 1 Axes>"
      ]
     },
     "metadata": {
      "needs_background": "light"
     },
     "output_type": "display_data"
    }
   ],
   "source": [
    "df.unstack().plot(kind='bar', stacked= True, y='Recnum')"
   ]
  },
  {
   "cell_type": "markdown",
   "metadata": {},
   "source": [
    "We can see the average spending amount of fraud transactions and non-fraud transactions have a huge difference.\n",
    "\n",
    "Fraud transaction will spend a lot more than average normal spendings."
   ]
  },
  {
   "cell_type": "code",
   "execution_count": 42,
   "metadata": {},
   "outputs": [
    {
     "data": {
      "text/plain": [
       "<matplotlib.axes._subplots.AxesSubplot at 0x1c21868710>"
      ]
     },
     "execution_count": 42,
     "metadata": {},
     "output_type": "execute_result"
    },
    {
     "data": {
      "image/png": "[encoded data removed]",
      "text/plain": [
       "<Figure size 432x288 with 1 Axes>"
      ]
     },
     "metadata": {
      "needs_background": "light"
     },
     "output_type": "display_data"
    }
   ],
   "source": [
    "transac.groupby('Fraud').mean()['Amount'].plot(kind='bar')"
   ]
  },
  {
   "cell_type": "code",
   "execution_count": 43,
   "metadata": {
    "scrolled": true
   },
   "outputs": [
    {
     "data": {
      "text/html": [
       "<div>\n",
       "<style scoped>\n",
       "    .dataframe tbody tr th:only-of-type {\n",
       "        vertical-align: middle;\n",
       "    }\n",
       "\n",
       "    .dataframe tbody tr th {\n",
       "        vertical-align: top;\n",
       "    }\n",
       "\n",
       "    .dataframe thead th {\n",
       "        text-align: right;\n",
       "    }\n",
       "</style>\n",
       "<table border=\"1\" class=\"dataframe\">\n",
       "  <thead>\n",
       "    <tr style=\"text-align: right;\">\n",
       "      <th></th>\n",
       "      <th></th>\n",
       "      <th>Recnum</th>\n",
       "      <th>Cardnum</th>\n",
       "      <th>Date</th>\n",
       "      <th>Merchnum</th>\n",
       "      <th>Merch description</th>\n",
       "      <th>Merch state</th>\n",
       "      <th>Merch zip</th>\n",
       "      <th>Transtype</th>\n",
       "      <th>Amount</th>\n",
       "      <th>Day_of_week</th>\n",
       "      <th>Day_of_year</th>\n",
       "      <th>Merch_state_na</th>\n",
       "      <th>Merch_zip_na</th>\n",
       "      <th>Merchnum_na</th>\n",
       "    </tr>\n",
       "    <tr>\n",
       "      <th>Fraud</th>\n",
       "      <th>Month</th>\n",
       "      <th></th>\n",
       "      <th></th>\n",
       "      <th></th>\n",
       "      <th></th>\n",
       "      <th></th>\n",
       "      <th></th>\n",
       "      <th></th>\n",
       "      <th></th>\n",
       "      <th></th>\n",
       "      <th></th>\n",
       "      <th></th>\n",
       "      <th></th>\n",
       "      <th></th>\n",
       "      <th></th>\n",
       "    </tr>\n",
       "  </thead>\n",
       "  <tbody>\n",
       "    <tr>\n",
       "      <th rowspan=\"5\" valign=\"top\">0</th>\n",
       "      <th>1</th>\n",
       "      <td>6788</td>\n",
       "      <td>6788</td>\n",
       "      <td>6788</td>\n",
       "      <td>6504</td>\n",
       "      <td>6788</td>\n",
       "      <td>6691</td>\n",
       "      <td>6788</td>\n",
       "      <td>6788</td>\n",
       "      <td>6788</td>\n",
       "      <td>6788</td>\n",
       "      <td>6788</td>\n",
       "      <td>6788</td>\n",
       "      <td>6788</td>\n",
       "      <td>6788</td>\n",
       "    </tr>\n",
       "    <tr>\n",
       "      <th>2</th>\n",
       "      <td>7739</td>\n",
       "      <td>7739</td>\n",
       "      <td>7739</td>\n",
       "      <td>7472</td>\n",
       "      <td>7739</td>\n",
       "      <td>7695</td>\n",
       "      <td>7739</td>\n",
       "      <td>7739</td>\n",
       "      <td>7739</td>\n",
       "      <td>7739</td>\n",
       "      <td>7739</td>\n",
       "      <td>7739</td>\n",
       "      <td>7739</td>\n",
       "      <td>7739</td>\n",
       "    </tr>\n",
       "    <tr>\n",
       "      <th>3</th>\n",
       "      <td>9367</td>\n",
       "      <td>9367</td>\n",
       "      <td>9367</td>\n",
       "      <td>8986</td>\n",
       "      <td>9367</td>\n",
       "      <td>9224</td>\n",
       "      <td>9367</td>\n",
       "      <td>9367</td>\n",
       "      <td>9367</td>\n",
       "      <td>9367</td>\n",
       "      <td>9367</td>\n",
       "      <td>9367</td>\n",
       "      <td>9367</td>\n",
       "      <td>9367</td>\n",
       "    </tr>\n",
       "    <tr>\n",
       "      <th>4</th>\n",
       "      <td>7662</td>\n",
       "      <td>7662</td>\n",
       "      <td>7662</td>\n",
       "      <td>7383</td>\n",
       "      <td>7662</td>\n",
       "      <td>7574</td>\n",
       "      <td>7662</td>\n",
       "      <td>7662</td>\n",
       "      <td>7662</td>\n",
       "      <td>7662</td>\n",
       "      <td>7662</td>\n",
       "      <td>7662</td>\n",
       "      <td>7662</td>\n",
       "      <td>7662</td>\n",
       "    </tr>\n",
       "    <tr>\n",
       "      <th>5</th>\n",
       "      <td>8836</td>\n",
       "      <td>8836</td>\n",
       "      <td>8836</td>\n",
       "      <td>8485</td>\n",
       "      <td>8836</td>\n",
       "      <td>8730</td>\n",
       "      <td>8836</td>\n",
       "      <td>8836</td>\n",
       "      <td>8836</td>\n",
       "      <td>8836</td>\n",
       "      <td>8836</td>\n",
       "      <td>8836</td>\n",
       "      <td>8836</td>\n",
       "      <td>8836</td>\n",
       "    </tr>\n",
       "  </tbody>\n",
       "</table>\n",
       "</div>"
      ],
      "text/plain": [
       "             Recnum  Cardnum  Date  Merchnum  Merch description  Merch state  \\\n",
       "Fraud Month                                                                    \n",
       "0     1        6788     6788  6788      6504               6788         6691   \n",
       "      2        7739     7739  7739      7472               7739         7695   \n",
       "      3        9367     9367  9367      8986               9367         9224   \n",
       "      4        7662     7662  7662      7383               7662         7574   \n",
       "      5        8836     8836  8836      8485               8836         8730   \n",
       "\n",
       "             Merch zip  Transtype  Amount  Day_of_week  Day_of_year  \\\n",
       "Fraud Month                                                           \n",
       "0     1           6788       6788    6788         6788         6788   \n",
       "      2           7739       7739    7739         7739         7739   \n",
       "      3           9367       9367    9367         9367         9367   \n",
       "      4           7662       7662    7662         7662         7662   \n",
       "      5           8836       8836    8836         8836         8836   \n",
       "\n",
       "             Merch_state_na  Merch_zip_na  Merchnum_na  \n",
       "Fraud Month                                             \n",
       "0     1                6788          6788         6788  \n",
       "      2                7739          7739         7739  \n",
       "      3                9367          9367         9367  \n",
       "      4                7662          7662         7662  \n",
       "      5                8836          8836         8836  "
      ]
     },
     "execution_count": 43,
     "metadata": {},
     "output_type": "execute_result"
    }
   ],
   "source": [
    "transac.groupby(['Fraud','Month']).count().head()"
   ]
  },
  {
   "cell_type": "markdown",
   "metadata": {},
   "source": [
    "The plots below showed us that August seems to have the most transaction during the whole year, regardless of whether it's fraud or not.  But in fraud transactions, August seems to be more more outstanding than it in non-fraud transactions."
   ]
  },
  {
   "cell_type": "code",
   "execution_count": 44,
   "metadata": {
    "scrolled": true
   },
   "outputs": [
    {
     "data": {
      "text/plain": [
       "<matplotlib.axes._subplots.AxesSubplot at 0x1c2162acc0>"
      ]
     },
     "execution_count": 44,
     "metadata": {},
     "output_type": "execute_result"
    },
    {
     "data": {
      "image/png": "[encoded data removed]",
      "text/plain": [
       "<Figure size 432x288 with 2 Axes>"
      ]
     },
     "metadata": {
      "needs_background": "light"
     },
     "output_type": "display_data"
    }
   ],
   "source": [
    "f1 = plt.figure(1)\n",
    "plt.subplot(211)\n",
    "\n",
    "\n",
    "transac.groupby(['Fraud','Month']).count().loc['0']['Recnum'].plot(kind='bar',title = 'Non-Fraud Transaction Number Over 2010')\n",
    "plt.subplot(212)\n",
    "\n",
    "transac.groupby(['Fraud','Month']).count().loc['1']['Recnum'].plot(kind='bar',title = 'Fraud Transaction Number Over 2010')\n"
   ]
  },
  {
   "cell_type": "markdown",
   "metadata": {},
   "source": [
    "Fraud transactions seem to happen more frequently in Thursday, considering the non-fraud transaction number happened in Thursday. But Saturday, Sunday, Wednesday seem to have larger-value fraud transaction than other days of week."
   ]
  },
  {
   "cell_type": "code",
   "execution_count": 45,
   "metadata": {},
   "outputs": [
    {
     "data": {
      "text/plain": [
       "<matplotlib.axes._subplots.AxesSubplot at 0x1c2178aa58>"
      ]
     },
     "execution_count": 45,
     "metadata": {},
     "output_type": "execute_result"
    },
    {
     "data": {
      "image/png": "[encoded data removed]",
      "text/plain": [
       "<Figure size 432x288 with 2 Axes>"
      ]
     },
     "metadata": {
      "needs_background": "light"
     },
     "output_type": "display_data"
    },
    {
     "data": {
      "image/png": "[encoded data removed]",
      "text/plain": [
       "<Figure size 432x288 with 2 Axes>"
      ]
     },
     "metadata": {
      "needs_background": "light"
     },
     "output_type": "display_data"
    }
   ],
   "source": [
    "f1 = plt.figure(1)\n",
    "plt.subplot(211)\n",
    "\n",
    "\n",
    "transac.groupby(['Fraud','Day_of_week']).count().loc['0']['Recnum'].plot(kind='bar',title = 'Non-Fraud Transaction Number Within a Week')\n",
    "plt.subplot(212)\n",
    "\n",
    "transac.groupby(['Fraud','Day_of_week']).count().loc['1']['Recnum'].plot(kind='bar',title = 'Fraud Transaction Number Within a Week')\n",
    "\n",
    "\n",
    "f2 = plt.figure(2)\n",
    "plt.subplot(211)\n",
    "\n",
    "transac.groupby(['Fraud','Day_of_week']).mean().loc['0']['Amount'].plot(kind='bar',title = 'Non-Fraud Transaction Average Amount Within a Week')\n",
    "plt.subplot(212)\n",
    "\n",
    "transac.groupby(['Fraud','Day_of_week']).mean().loc['1']['Amount'].plot(kind='bar',title = 'Fraud Transaction Average Amount Within a Week')\n"
   ]
  },
  {
   "cell_type": "code",
   "execution_count": 46,
   "metadata": {},
   "outputs": [
    {
     "data": {
      "text/plain": [
       "<matplotlib.axes._subplots.AxesSubplot at 0x11bdb4048>"
      ]
     },
     "execution_count": 46,
     "metadata": {},
     "output_type": "execute_result"
    },
    {
     "data": {
      "image/png": "[encoded data removed]",
      "text/plain": [
       "<Figure size 432x288 with 1 Axes>"
      ]
     },
     "metadata": {
      "needs_background": "light"
     },
     "output_type": "display_data"
    }
   ],
   "source": [
    "card_usage_frequency = transac[['Recnum','Cardnum']].groupby(['Cardnum']).count()\n",
    "\n",
    "card_usage_frequency.plot(kind='hist',legend=True)"
   ]
  },
  {
   "cell_type": "code",
   "execution_count": 47,
   "metadata": {},
   "outputs": [],
   "source": [
    "transac['Fraud_new']  = [0 if val == '0' else 1 for val in transac['Fraud']]"
   ]
  },
  {
   "cell_type": "code",
   "execution_count": 48,
   "metadata": {
    "scrolled": false
   },
   "outputs": [
    {
     "data": {
      "text/plain": [
       "<matplotlib.axes._subplots.AxesSubplot at 0x1c1fba7588>"
      ]
     },
     "execution_count": 48,
     "metadata": {},
     "output_type": "execute_result"
    },
    {
     "data": {
      "image/png": "[encoded data removed]",
      "text/plain": [
       "<Figure size 432x288 with 1 Axes>"
      ]
     },
     "metadata": {
      "needs_background": "light"
     },
     "output_type": "display_data"
    }
   ],
   "source": [
    "transac.groupby(['Cardnum']).sum()['Fraud_new'].loc[transac.groupby(['Cardnum']).sum()['Fraud_new']>0].plot(kind='hist',title = 'Fraud Transaction Frequency Distribution')\n"
   ]
  },
  {
   "cell_type": "code",
   "execution_count": 49,
   "metadata": {},
   "outputs": [
    {
     "data": {
      "text/plain": [
       "<matplotlib.axes._subplots.AxesSubplot at 0x1c24678c88>"
      ]
     },
     "execution_count": 49,
     "metadata": {},
     "output_type": "execute_result"
    },
    {
     "data": {
      "image/png": "[encoded data removed]",
      "text/plain": [
       "<Figure size 432x288 with 1 Axes>"
      ]
     },
     "metadata": {
      "needs_background": "light"
     },
     "output_type": "display_data"
    }
   ],
   "source": [
    "transac.groupby(['Merch state']).sum()['Fraud_new'].loc[transac.groupby(['Merch state']).sum()['Fraud_new']>0].plot(kind='bar',title = 'Fraud Transaction Frequency Distribution')\n"
   ]
  },
  {
   "cell_type": "markdown",
   "metadata": {},
   "source": [
    "<a id='datacleaning'></a>\n",
    "\n",
    "## Data Cleaning"
   ]
  },
  {
   "cell_type": "markdown",
   "metadata": {},
   "source": [
    "##### Filling Up Missing Data"
   ]
  },
  {
   "cell_type": "markdown",
   "metadata": {},
   "source": [
    "For those transactions whose Merch zip is missing but Merch state is still available, we can use the `Merch zip` to get the according state name."
   ]
  },
  {
   "cell_type": "markdown",
   "metadata": {},
   "source": [
    "To use uszipccode 0.1.2, you may want to install it in the Terminal first:\n",
    "\n",
    "pip install uszipcode==0.1.2"
   ]
  },
  {
   "cell_type": "code",
   "execution_count": 50,
   "metadata": {
    "scrolled": true
   },
   "outputs": [],
   "source": [
    "from pprint import pprint\n",
    "from uszipcode import ZipcodeSearchEngine\n",
    "search = ZipcodeSearchEngine()"
   ]
  },
  {
   "cell_type": "code",
   "execution_count": 51,
   "metadata": {},
   "outputs": [],
   "source": [
    "transac['Merch state_byzip'] = list(map(lambda x: search.by_zipcode(x).State, transac['Merch zip']))"
   ]
  },
  {
   "cell_type": "code",
   "execution_count": 52,
   "metadata": {},
   "outputs": [
    {
     "name": "stderr",
     "output_type": "stream",
     "text": [
      "/anaconda3/envs/python3/lib/python3.7/site-packages/ipykernel_launcher.py:1: UserWarning: Boolean Series key will be reindexed to match DataFrame index.\n",
      "  \"\"\"Entry point for launching an IPython kernel.\n"
     ]
    }
   ],
   "source": [
    "state_canbe_filled_list = list(transac[transac['Merch_state_na'] == True][transac['Merch_zip_na'] == False].index)"
   ]
  },
  {
   "cell_type": "code",
   "execution_count": 53,
   "metadata": {
    "scrolled": true
   },
   "outputs": [
    {
     "name": "stderr",
     "output_type": "stream",
     "text": [
      "/anaconda3/envs/python3/lib/python3.7/site-packages/ipykernel_launcher.py:2: SettingWithCopyWarning: \n",
      "A value is trying to be set on a copy of a slice from a DataFrame\n",
      "\n",
      "See the caveats in the documentation: http://pandas.pydata.org/pandas-docs/stable/indexing.html#indexing-view-versus-copy\n",
      "  \n"
     ]
    }
   ],
   "source": [
    "for i in state_canbe_filled_list:\n",
    "    transac['Merch state'][i] = transac['Merch state_byzip'][i]"
   ]
  },
  {
   "cell_type": "markdown",
   "metadata": {},
   "source": [
    "For those transactions whose Merchant zipcode is missing but Merchant state is not missing, I am going to replace the missing zipcode with the most frequent zipcode in that state in terms of number of transactions."
   ]
  },
  {
   "cell_type": "code",
   "execution_count": 54,
   "metadata": {
    "scrolled": true
   },
   "outputs": [],
   "source": [
    "transac['Merch zip'] = [ np.nan if val=='nan' else val for val in transac['Merch zip']]"
   ]
  },
  {
   "cell_type": "code",
   "execution_count": 55,
   "metadata": {
    "scrolled": true
   },
   "outputs": [],
   "source": [
    "Most_frequent_zip = pd.DataFrame(transac.groupby(['Merch state','Merch zip']).count()['Recnum'].groupby(level=0, group_keys = False).nlargest(1))\n",
    "\n",
    "# Most_frequent_zip.dropna(axis = 0, inplace = True)\n",
    "\n",
    "Most_frequent_zip.reset_index(level=0, inplace = True)\n",
    "\n",
    "Most_frequent_zip.reset_index(level=0, inplace = True)"
   ]
  },
  {
   "cell_type": "code",
   "execution_count": 56,
   "metadata": {},
   "outputs": [],
   "source": [
    "Most_frequent_zip.loc[len(Most_frequent_zip)]=[np.nan,np.nan,np.nan] "
   ]
  },
  {
   "cell_type": "code",
   "execution_count": 57,
   "metadata": {},
   "outputs": [
    {
     "data": {
      "text/html": [
       "<div>\n",
       "<style scoped>\n",
       "    .dataframe tbody tr th:only-of-type {\n",
       "        vertical-align: middle;\n",
       "    }\n",
       "\n",
       "    .dataframe tbody tr th {\n",
       "        vertical-align: top;\n",
       "    }\n",
       "\n",
       "    .dataframe thead th {\n",
       "        text-align: right;\n",
       "    }\n",
       "</style>\n",
       "<table border=\"1\" class=\"dataframe\">\n",
       "  <thead>\n",
       "    <tr style=\"text-align: right;\">\n",
       "      <th></th>\n",
       "      <th>Merch zip</th>\n",
       "      <th>Merch state</th>\n",
       "      <th>Recnum</th>\n",
       "    </tr>\n",
       "  </thead>\n",
       "  <tbody>\n",
       "    <tr>\n",
       "      <th>0</th>\n",
       "      <td>99501</td>\n",
       "      <td>AK</td>\n",
       "      <td>56.0</td>\n",
       "    </tr>\n",
       "    <tr>\n",
       "      <th>1</th>\n",
       "      <td>35801</td>\n",
       "      <td>AL</td>\n",
       "      <td>78.0</td>\n",
       "    </tr>\n",
       "    <tr>\n",
       "      <th>2</th>\n",
       "      <td>72764</td>\n",
       "      <td>AR</td>\n",
       "      <td>9.0</td>\n",
       "    </tr>\n",
       "    <tr>\n",
       "      <th>3</th>\n",
       "      <td>85285</td>\n",
       "      <td>AZ</td>\n",
       "      <td>109.0</td>\n",
       "    </tr>\n",
       "    <tr>\n",
       "      <th>4</th>\n",
       "      <td>92656</td>\n",
       "      <td>CA</td>\n",
       "      <td>552.0</td>\n",
       "    </tr>\n",
       "    <tr>\n",
       "      <th>5</th>\n",
       "      <td>80202</td>\n",
       "      <td>CO</td>\n",
       "      <td>260.0</td>\n",
       "    </tr>\n",
       "    <tr>\n",
       "      <th>6</th>\n",
       "      <td>06907</td>\n",
       "      <td>CT</td>\n",
       "      <td>126.0</td>\n",
       "    </tr>\n",
       "    <tr>\n",
       "      <th>7</th>\n",
       "      <td>20005</td>\n",
       "      <td>DC</td>\n",
       "      <td>535.0</td>\n",
       "    </tr>\n",
       "    <tr>\n",
       "      <th>8</th>\n",
       "      <td>19713</td>\n",
       "      <td>DE</td>\n",
       "      <td>25.0</td>\n",
       "    </tr>\n",
       "    <tr>\n",
       "      <th>9</th>\n",
       "      <td>33716</td>\n",
       "      <td>FL</td>\n",
       "      <td>241.0</td>\n",
       "    </tr>\n",
       "    <tr>\n",
       "      <th>10</th>\n",
       "      <td>30091</td>\n",
       "      <td>GA</td>\n",
       "      <td>1092.0</td>\n",
       "    </tr>\n",
       "    <tr>\n",
       "      <th>11</th>\n",
       "      <td>96813</td>\n",
       "      <td>HI</td>\n",
       "      <td>6.0</td>\n",
       "    </tr>\n",
       "    <tr>\n",
       "      <th>12</th>\n",
       "      <td>50309</td>\n",
       "      <td>IA</td>\n",
       "      <td>41.0</td>\n",
       "    </tr>\n",
       "    <tr>\n",
       "      <th>13</th>\n",
       "      <td>83642</td>\n",
       "      <td>ID</td>\n",
       "      <td>46.0</td>\n",
       "    </tr>\n",
       "    <tr>\n",
       "      <th>14</th>\n",
       "      <td>60061</td>\n",
       "      <td>IL</td>\n",
       "      <td>1221.0</td>\n",
       "    </tr>\n",
       "    <tr>\n",
       "      <th>15</th>\n",
       "      <td>46250</td>\n",
       "      <td>IN</td>\n",
       "      <td>86.0</td>\n",
       "    </tr>\n",
       "    <tr>\n",
       "      <th>16</th>\n",
       "      <td>66202</td>\n",
       "      <td>KS</td>\n",
       "      <td>311.0</td>\n",
       "    </tr>\n",
       "    <tr>\n",
       "      <th>17</th>\n",
       "      <td>40511</td>\n",
       "      <td>KY</td>\n",
       "      <td>42.0</td>\n",
       "    </tr>\n",
       "    <tr>\n",
       "      <th>18</th>\n",
       "      <td>70148</td>\n",
       "      <td>LA</td>\n",
       "      <td>15.0</td>\n",
       "    </tr>\n",
       "    <tr>\n",
       "      <th>19</th>\n",
       "      <td>01730</td>\n",
       "      <td>MA</td>\n",
       "      <td>147.0</td>\n",
       "    </tr>\n",
       "    <tr>\n",
       "      <th>20</th>\n",
       "      <td>20763</td>\n",
       "      <td>MD</td>\n",
       "      <td>749.0</td>\n",
       "    </tr>\n",
       "    <tr>\n",
       "      <th>21</th>\n",
       "      <td>04032</td>\n",
       "      <td>ME</td>\n",
       "      <td>46.0</td>\n",
       "    </tr>\n",
       "    <tr>\n",
       "      <th>22</th>\n",
       "      <td>49423</td>\n",
       "      <td>MI</td>\n",
       "      <td>165.0</td>\n",
       "    </tr>\n",
       "    <tr>\n",
       "      <th>23</th>\n",
       "      <td>55164</td>\n",
       "      <td>MN</td>\n",
       "      <td>117.0</td>\n",
       "    </tr>\n",
       "    <tr>\n",
       "      <th>24</th>\n",
       "      <td>63103</td>\n",
       "      <td>MO</td>\n",
       "      <td>1650.0</td>\n",
       "    </tr>\n",
       "    <tr>\n",
       "      <th>25</th>\n",
       "      <td>39201</td>\n",
       "      <td>MS</td>\n",
       "      <td>165.0</td>\n",
       "    </tr>\n",
       "    <tr>\n",
       "      <th>26</th>\n",
       "      <td>59601</td>\n",
       "      <td>MT</td>\n",
       "      <td>63.0</td>\n",
       "    </tr>\n",
       "    <tr>\n",
       "      <th>27</th>\n",
       "      <td>27707</td>\n",
       "      <td>NC</td>\n",
       "      <td>362.0</td>\n",
       "    </tr>\n",
       "    <tr>\n",
       "      <th>28</th>\n",
       "      <td>20740</td>\n",
       "      <td>ND</td>\n",
       "      <td>22.0</td>\n",
       "    </tr>\n",
       "    <tr>\n",
       "      <th>29</th>\n",
       "      <td>69162</td>\n",
       "      <td>NE</td>\n",
       "      <td>95.0</td>\n",
       "    </tr>\n",
       "    <tr>\n",
       "      <th>30</th>\n",
       "      <td>97213</td>\n",
       "      <td>NH</td>\n",
       "      <td>568.0</td>\n",
       "    </tr>\n",
       "    <tr>\n",
       "      <th>31</th>\n",
       "      <td>08701</td>\n",
       "      <td>NJ</td>\n",
       "      <td>1267.0</td>\n",
       "    </tr>\n",
       "    <tr>\n",
       "      <th>32</th>\n",
       "      <td>87109</td>\n",
       "      <td>NM</td>\n",
       "      <td>42.0</td>\n",
       "    </tr>\n",
       "    <tr>\n",
       "      <th>33</th>\n",
       "      <td>89119</td>\n",
       "      <td>NV</td>\n",
       "      <td>119.0</td>\n",
       "    </tr>\n",
       "    <tr>\n",
       "      <th>34</th>\n",
       "      <td>10011</td>\n",
       "      <td>NY</td>\n",
       "      <td>198.0</td>\n",
       "    </tr>\n",
       "    <tr>\n",
       "      <th>35</th>\n",
       "      <td>45237</td>\n",
       "      <td>OH</td>\n",
       "      <td>342.0</td>\n",
       "    </tr>\n",
       "    <tr>\n",
       "      <th>36</th>\n",
       "      <td>74820</td>\n",
       "      <td>OK</td>\n",
       "      <td>151.0</td>\n",
       "    </tr>\n",
       "    <tr>\n",
       "      <th>37</th>\n",
       "      <td>97330</td>\n",
       "      <td>OR</td>\n",
       "      <td>341.0</td>\n",
       "    </tr>\n",
       "    <tr>\n",
       "      <th>38</th>\n",
       "      <td>17201</td>\n",
       "      <td>PA</td>\n",
       "      <td>1180.0</td>\n",
       "    </tr>\n",
       "    <tr>\n",
       "      <th>39</th>\n",
       "      <td>00934</td>\n",
       "      <td>PR</td>\n",
       "      <td>8.0</td>\n",
       "    </tr>\n",
       "    <tr>\n",
       "      <th>40</th>\n",
       "      <td>02852</td>\n",
       "      <td>RI</td>\n",
       "      <td>124.0</td>\n",
       "    </tr>\n",
       "    <tr>\n",
       "      <th>41</th>\n",
       "      <td>29464</td>\n",
       "      <td>SC</td>\n",
       "      <td>30.0</td>\n",
       "    </tr>\n",
       "    <tr>\n",
       "      <th>42</th>\n",
       "      <td>57049</td>\n",
       "      <td>SD</td>\n",
       "      <td>64.0</td>\n",
       "    </tr>\n",
       "    <tr>\n",
       "      <th>43</th>\n",
       "      <td>38118</td>\n",
       "      <td>TN</td>\n",
       "      <td>11868.0</td>\n",
       "    </tr>\n",
       "    <tr>\n",
       "      <th>44</th>\n",
       "      <td>78682</td>\n",
       "      <td>TX</td>\n",
       "      <td>817.0</td>\n",
       "    </tr>\n",
       "    <tr>\n",
       "      <th>45</th>\n",
       "      <td>84119</td>\n",
       "      <td>UT</td>\n",
       "      <td>513.0</td>\n",
       "    </tr>\n",
       "    <tr>\n",
       "      <th>46</th>\n",
       "      <td>22202</td>\n",
       "      <td>VA</td>\n",
       "      <td>1249.0</td>\n",
       "    </tr>\n",
       "    <tr>\n",
       "      <th>47</th>\n",
       "      <td>05146</td>\n",
       "      <td>VT</td>\n",
       "      <td>36.0</td>\n",
       "    </tr>\n",
       "    <tr>\n",
       "      <th>48</th>\n",
       "      <td>98101</td>\n",
       "      <td>WA</td>\n",
       "      <td>1197.0</td>\n",
       "    </tr>\n",
       "    <tr>\n",
       "      <th>49</th>\n",
       "      <td>53546</td>\n",
       "      <td>WI</td>\n",
       "      <td>432.0</td>\n",
       "    </tr>\n",
       "    <tr>\n",
       "      <th>50</th>\n",
       "      <td>26003</td>\n",
       "      <td>WV</td>\n",
       "      <td>102.0</td>\n",
       "    </tr>\n",
       "    <tr>\n",
       "      <th>51</th>\n",
       "      <td>82070</td>\n",
       "      <td>WY</td>\n",
       "      <td>12.0</td>\n",
       "    </tr>\n",
       "    <tr>\n",
       "      <th>52</th>\n",
       "      <td>NaN</td>\n",
       "      <td>NaN</td>\n",
       "      <td>NaN</td>\n",
       "    </tr>\n",
       "    <tr>\n",
       "      <th>53</th>\n",
       "      <td>NaN</td>\n",
       "      <td>NaN</td>\n",
       "      <td>NaN</td>\n",
       "    </tr>\n",
       "  </tbody>\n",
       "</table>\n",
       "</div>"
      ],
      "text/plain": [
       "   Merch zip Merch state   Recnum\n",
       "0      99501          AK     56.0\n",
       "1      35801          AL     78.0\n",
       "2      72764          AR      9.0\n",
       "3      85285          AZ    109.0\n",
       "4      92656          CA    552.0\n",
       "5      80202          CO    260.0\n",
       "6      06907          CT    126.0\n",
       "7      20005          DC    535.0\n",
       "8      19713          DE     25.0\n",
       "9      33716          FL    241.0\n",
       "10     30091          GA   1092.0\n",
       "11     96813          HI      6.0\n",
       "12     50309          IA     41.0\n",
       "13     83642          ID     46.0\n",
       "14     60061          IL   1221.0\n",
       "15     46250          IN     86.0\n",
       "16     66202          KS    311.0\n",
       "17     40511          KY     42.0\n",
       "18     70148          LA     15.0\n",
       "19     01730          MA    147.0\n",
       "20     20763          MD    749.0\n",
       "21     04032          ME     46.0\n",
       "22     49423          MI    165.0\n",
       "23     55164          MN    117.0\n",
       "24     63103          MO   1650.0\n",
       "25     39201          MS    165.0\n",
       "26     59601          MT     63.0\n",
       "27     27707          NC    362.0\n",
       "28     20740          ND     22.0\n",
       "29     69162          NE     95.0\n",
       "30     97213          NH    568.0\n",
       "31     08701          NJ   1267.0\n",
       "32     87109          NM     42.0\n",
       "33     89119          NV    119.0\n",
       "34     10011          NY    198.0\n",
       "35     45237          OH    342.0\n",
       "36     74820          OK    151.0\n",
       "37     97330          OR    341.0\n",
       "38     17201          PA   1180.0\n",
       "39     00934          PR      8.0\n",
       "40     02852          RI    124.0\n",
       "41     29464          SC     30.0\n",
       "42     57049          SD     64.0\n",
       "43     38118          TN  11868.0\n",
       "44     78682          TX    817.0\n",
       "45     84119          UT    513.0\n",
       "46     22202          VA   1249.0\n",
       "47     05146          VT     36.0\n",
       "48     98101          WA   1197.0\n",
       "49     53546          WI    432.0\n",
       "50     26003          WV    102.0\n",
       "51     82070          WY     12.0\n",
       "52       NaN         NaN      NaN\n",
       "53       NaN         NaN      NaN"
      ]
     },
     "execution_count": 57,
     "metadata": {},
     "output_type": "execute_result"
    }
   ],
   "source": [
    "Most_frequent_zip.append({'Merch zip' : np.nan , 'Merch state' : np.nan , 'Recnum': np.nan} , ignore_index=True)"
   ]
  },
  {
   "cell_type": "code",
   "execution_count": 58,
   "metadata": {},
   "outputs": [],
   "source": [
    "transac_merged = pd.merge(transac,Most_frequent_zip, on='Merch state', how= 'left')"
   ]
  },
  {
   "cell_type": "code",
   "execution_count": 59,
   "metadata": {},
   "outputs": [],
   "source": [
    "transac_merged.rename(columns = {'Merch zip_y':'Most_freq_zip_by_state'}, inplace = True)"
   ]
  },
  {
   "cell_type": "code",
   "execution_count": 60,
   "metadata": {},
   "outputs": [],
   "source": [
    "transac_merged.rename(columns = {'Merch zip_x':'Merch zip'}, inplace = True)"
   ]
  },
  {
   "cell_type": "code",
   "execution_count": 61,
   "metadata": {},
   "outputs": [
    {
     "name": "stderr",
     "output_type": "stream",
     "text": [
      "/anaconda3/envs/python3/lib/python3.7/site-packages/ipykernel_launcher.py:1: UserWarning: Boolean Series key will be reindexed to match DataFrame index.\n",
      "  \"\"\"Entry point for launching an IPython kernel.\n"
     ]
    }
   ],
   "source": [
    "zip_canbe_filled_list = list(transac_merged[transac_merged['Merch_zip_na'] == True][transac['Merch_state_na'] == False].index)"
   ]
  },
  {
   "cell_type": "code",
   "execution_count": 62,
   "metadata": {},
   "outputs": [
    {
     "name": "stderr",
     "output_type": "stream",
     "text": [
      "/anaconda3/envs/python3/lib/python3.7/site-packages/ipykernel_launcher.py:2: SettingWithCopyWarning: \n",
      "A value is trying to be set on a copy of a slice from a DataFrame\n",
      "\n",
      "See the caveats in the documentation: http://pandas.pydata.org/pandas-docs/stable/indexing.html#indexing-view-versus-copy\n",
      "  \n"
     ]
    }
   ],
   "source": [
    "for i in zip_canbe_filled_list:\n",
    "    transac_merged['Merch zip'][i] = transac_merged['Most_freq_zip_by_state'][i]"
   ]
  },
  {
   "cell_type": "code",
   "execution_count": 63,
   "metadata": {},
   "outputs": [],
   "source": [
    "Merchnum_0_missing_list = list(transac_merged[transac_merged['Merchnum'].isna()| (transac_merged['Merchnum'] =='0')].index)"
   ]
  },
  {
   "cell_type": "code",
   "execution_count": 64,
   "metadata": {
    "scrolled": true
   },
   "outputs": [
    {
     "name": "stderr",
     "output_type": "stream",
     "text": [
      "/anaconda3/envs/python3/lib/python3.7/site-packages/ipykernel_launcher.py:2: SettingWithCopyWarning: \n",
      "A value is trying to be set on a copy of a slice from a DataFrame\n",
      "\n",
      "See the caveats in the documentation: http://pandas.pydata.org/pandas-docs/stable/indexing.html#indexing-view-versus-copy\n",
      "  \n"
     ]
    }
   ],
   "source": [
    "for i in Merchnum_0_missing_list:\n",
    "    transac_merged['Merchnum'][i] = np.nan"
   ]
  },
  {
   "cell_type": "markdown",
   "metadata": {},
   "source": [
    "<a id='modeling'></a>\n",
    "\n",
    "#### Modeling and Model Evaluation"
   ]
  },
  {
   "cell_type": "code",
   "execution_count": 65,
   "metadata": {},
   "outputs": [],
   "source": [
    "transac_merged['Fraud'] = [0 if val =='0' else 1 for val in transac_merged['Fraud']]"
   ]
  },
  {
   "cell_type": "code",
   "execution_count": 66,
   "metadata": {},
   "outputs": [],
   "source": [
    "model_variables = ['Merchnum', 'Merch state','Merch zip', 'Transtype', 'Amount','Fraud']"
   ]
  },
  {
   "cell_type": "code",
   "execution_count": 67,
   "metadata": {},
   "outputs": [],
   "source": [
    "data_relevant = transac_merged[model_variables]"
   ]
  },
  {
   "cell_type": "markdown",
   "metadata": {},
   "source": [
    "Get dummy variables to put them into the model."
   ]
  },
  {
   "cell_type": "code",
   "execution_count": 68,
   "metadata": {},
   "outputs": [],
   "source": [
    "data_relevant_encoded = pd.get_dummies(data_relevant)"
   ]
  },
  {
   "cell_type": "markdown",
   "metadata": {},
   "source": [
    "Split the data into training set and validation set."
   ]
  },
  {
   "cell_type": "code",
   "execution_count": 70,
   "metadata": {},
   "outputs": [],
   "source": [
    "training_features, test_features, \\\n",
    "training_target, test_target, = train_test_split(data_relevant_encoded.drop('Fraud',axis=1, inplace=False),\n",
    "data_relevant_encoded['Fraud'],test_size = 0.3,random_state = 12)"
   ]
  },
  {
   "cell_type": "code",
   "execution_count": 71,
   "metadata": {},
   "outputs": [],
   "source": [
    "x_train, x_val , y_train, y_val = train_test_split(training_features, training_target, test_size = .3, random_state=12)"
   ]
  },
  {
   "cell_type": "markdown",
   "metadata": {},
   "source": [
    "Since there are too little fraud transactions, oversampling is necessary to get better model performance."
   ]
  },
  {
   "cell_type": "code",
   "execution_count": 72,
   "metadata": {},
   "outputs": [],
   "source": [
    "sm = SMOTE(random_state=12, ratio = 1.0)"
   ]
  },
  {
   "cell_type": "code",
   "execution_count": 73,
   "metadata": {},
   "outputs": [
    {
     "name": "stderr",
     "output_type": "stream",
     "text": [
      "/anaconda3/envs/python3/lib/python3.7/site-packages/sklearn/utils/deprecation.py:77: DeprecationWarning: Function _ratio_float is deprecated; Use a float for 'ratio' is deprecated from version 0.2. The support will be removed in 0.4. Use a dict, str, or a callable instead.\n",
      "  warnings.warn(msg, category=DeprecationWarning)\n"
     ]
    }
   ],
   "source": [
    "x_train_res, y_train_res = sm.fit_sample(x_train, y_train)"
   ]
  },
  {
   "cell_type": "markdown",
   "metadata": {},
   "source": [
    "<a id='rf'></a>\n",
    "\n",
    "##### Random Forest Classification"
   ]
  },
  {
   "cell_type": "markdown",
   "metadata": {},
   "source": [
    "I defined two functions to get the model accuracy and the ROC curve for model comparison."
   ]
  },
  {
   "cell_type": "code",
   "execution_count": 74,
   "metadata": {},
   "outputs": [],
   "source": [
    "def get_accuracy(model, model_name):\n",
    "    y_pred = model.predict(x_val)\n",
    "    predictions = [round(value) for value in y_pred]\n",
    "    # evaluate predictions\n",
    "    accuracy = accuracy_score(y_val, predictions)\n",
    "    print(\"The accuracy of\" + model_name +' model: %.2f%%' % (accuracy * 100.0))"
   ]
  },
  {
   "cell_type": "code",
   "execution_count": 75,
   "metadata": {},
   "outputs": [],
   "source": [
    "def get_roc_curve(m,model_name):\n",
    "    roc_auc = roc_auc_score(y_val, m.predict(x_val))\n",
    "    fpr, tpr, thresholds = roc_curve(y_val, m.predict_proba(x_val)[:,1])\n",
    "    plt.figure()\n",
    "    plt.plot(fpr, tpr, label= model_name +' (area = %0.2f)' % roc_auc)\n",
    "    plt.plot([0, 1], [0, 1],'r--')\n",
    "    plt.xlim([0.0, 1.0])\n",
    "    plt.ylim([0.0, 1.05])\n",
    "    plt.xlabel('False Positive Rate')\n",
    "    plt.ylabel('True Positive Rate')\n",
    "    plt.title('Receiver operating characteristic')\n",
    "    plt.legend(loc=\"lower right\")\n",
    "    plt.savefig(model_name)\n",
    "    plt.show()"
   ]
  },
  {
   "cell_type": "code",
   "execution_count": 76,
   "metadata": {},
   "outputs": [
    {
     "data": {
      "text/plain": [
       "RandomForestClassifier(bootstrap=True, class_weight=None, criterion='gini',\n",
       "            max_depth=None, max_features='auto', max_leaf_nodes=None,\n",
       "            min_impurity_decrease=0.0, min_impurity_split=None,\n",
       "            min_samples_leaf=1, min_samples_split=2,\n",
       "            min_weight_fraction_leaf=0.0, n_estimators=25, n_jobs=1,\n",
       "            oob_score=False, random_state=12, verbose=0, warm_start=False)"
      ]
     },
     "execution_count": 76,
     "metadata": {},
     "output_type": "execute_result"
    }
   ],
   "source": [
    "clf_rf = RandomForestClassifier(n_estimators=25, random_state=12)\n",
    "clf_rf.fit(x_train_res, y_train_res)"
   ]
  },
  {
   "cell_type": "code",
   "execution_count": 77,
   "metadata": {},
   "outputs": [
    {
     "name": "stdout",
     "output_type": "stream",
     "text": [
      "Validation Results\n",
      "0.991338156405335\n",
      "\n",
      "Test Results\n",
      "0.9915248397988011\n"
     ]
    }
   ],
   "source": [
    "print('Validation Results')\n",
    "print(clf_rf.score(x_val, y_val))\n",
    "#print(recall_score(y_val, clf_rf.predict(x_val)))\n",
    "print('\\nTest Results')\n",
    "print(clf_rf.score(test_features, test_target))\n",
    "#print(recall_score(test_target, clf_rf.predict(test_features)))"
   ]
  },
  {
   "cell_type": "code",
   "execution_count": 78,
   "metadata": {},
   "outputs": [
    {
     "name": "stdout",
     "output_type": "stream",
     "text": [
      "The accuracy ofRandom Forest Classification model: 99.13%\n"
     ]
    }
   ],
   "source": [
    "get_accuracy(clf_rf, \"Random Forest Classification\")"
   ]
  },
  {
   "cell_type": "code",
   "execution_count": 79,
   "metadata": {},
   "outputs": [
    {
     "data": {
      "image/png": "[encoded data removed]",
      "text/plain": [
       "<Figure size 432x288 with 1 Axes>"
      ]
     },
     "metadata": {
      "needs_background": "light"
     },
     "output_type": "display_data"
    }
   ],
   "source": [
    "rf_roc_auc = roc_auc_score(y_val, clf_rf.predict(x_val))\n",
    "fpr, tpr, thresholds = roc_curve(y_val, clf_rf.predict_proba(x_val)[:,1])\n",
    "plt.figure()\n",
    "plt.plot(fpr, tpr, label='Random Forest (area = %0.2f)' % rf_roc_auc)\n",
    "plt.plot([0, 1], [0, 1],'r--')\n",
    "plt.xlim([0.0, 1.0])\n",
    "plt.ylim([0.0, 1.05])\n",
    "plt.xlabel('False Positive Rate')\n",
    "plt.ylabel('True Positive Rate')\n",
    "plt.title('Receiver operating characteristic')\n",
    "plt.legend(loc=\"lower right\")\n",
    "plt.savefig('RF_ROC')\n",
    "plt.show()"
   ]
  },
  {
   "cell_type": "code",
   "execution_count": 80,
   "metadata": {
    "scrolled": true
   },
   "outputs": [
    {
     "data": {
      "image/png": "[encoded data removed]",
      "text/plain": [
       "<Figure size 432x288 with 1 Axes>"
      ]
     },
     "metadata": {
      "needs_background": "light"
     },
     "output_type": "display_data"
    }
   ],
   "source": [
    "get_roc_curve(clf_rf,'Random Forest')"
   ]
  },
  {
   "cell_type": "markdown",
   "metadata": {},
   "source": [
    "<a id='lr'></a>\n",
    "\n",
    "##### Logistic Regression"
   ]
  },
  {
   "cell_type": "code",
   "execution_count": 81,
   "metadata": {},
   "outputs": [],
   "source": [
    "sns.set(style=\"white\")\n",
    "sns.set(style=\"whitegrid\", color_codes=True)"
   ]
  },
  {
   "cell_type": "code",
   "execution_count": 82,
   "metadata": {},
   "outputs": [],
   "source": [
    "logreg = LogisticRegression()"
   ]
  },
  {
   "cell_type": "code",
   "execution_count": 83,
   "metadata": {},
   "outputs": [
    {
     "data": {
      "text/plain": [
       "LogisticRegression(C=1.0, class_weight=None, dual=False, fit_intercept=True,\n",
       "          intercept_scaling=1, max_iter=100, multi_class='ovr', n_jobs=1,\n",
       "          penalty='l2', random_state=None, solver='liblinear', tol=0.0001,\n",
       "          verbose=0, warm_start=False)"
      ]
     },
     "execution_count": 83,
     "metadata": {},
     "output_type": "execute_result"
    }
   ],
   "source": [
    "logreg.fit(x_train, y_train)"
   ]
  },
  {
   "cell_type": "code",
   "execution_count": 84,
   "metadata": {},
   "outputs": [],
   "source": [
    "y_pred = logreg.predict(x_val)"
   ]
  },
  {
   "cell_type": "code",
   "execution_count": 85,
   "metadata": {},
   "outputs": [
    {
     "name": "stdout",
     "output_type": "stream",
     "text": [
      "Accuracy of logistic regression classifier on test set: 0.99\n"
     ]
    }
   ],
   "source": [
    "print('Accuracy of logistic regression classifier on test set: {:.2f}'.format(logreg.score(x_val, y_val)))"
   ]
  },
  {
   "cell_type": "code",
   "execution_count": 86,
   "metadata": {},
   "outputs": [
    {
     "name": "stdout",
     "output_type": "stream",
     "text": [
      "The accuracy ofLogistic Regression model: 99.14%\n"
     ]
    }
   ],
   "source": [
    "get_accuracy(logreg, \"Logistic Regression\")"
   ]
  },
  {
   "cell_type": "code",
   "execution_count": 87,
   "metadata": {},
   "outputs": [
    {
     "data": {
      "image/png": "[encoded data removed]",
      "text/plain": [
       "<Figure size 432x288 with 1 Axes>"
      ]
     },
     "metadata": {},
     "output_type": "display_data"
    }
   ],
   "source": [
    "logit_roc_auc = roc_auc_score(y_val, logreg.predict(x_val))\n",
    "fpr, tpr, thresholds = roc_curve(y_val, logreg.predict_proba(x_val)[:,1])\n",
    "plt.figure()\n",
    "plt.plot(fpr, tpr, label='Logistic Regression (area = %0.2f)' % logit_roc_auc)\n",
    "plt.plot([0, 1], [0, 1],'r--')\n",
    "plt.xlim([0.0, 1.0])\n",
    "plt.ylim([0.0, 1.05])\n",
    "plt.xlabel('False Positive Rate')\n",
    "plt.ylabel('True Positive Rate')\n",
    "plt.title('Receiver operating characteristic')\n",
    "plt.legend(loc=\"lower right\")\n",
    "plt.savefig('Log_ROC')\n",
    "plt.show()"
   ]
  },
  {
   "cell_type": "code",
   "execution_count": 88,
   "metadata": {},
   "outputs": [
    {
     "data": {
      "image/png": "[encoded data removed]",
      "text/plain": [
       "<Figure size 432x288 with 1 Axes>"
      ]
     },
     "metadata": {},
     "output_type": "display_data"
    }
   ],
   "source": [
    "get_roc_curve(logreg,'Logistic Regression')"
   ]
  },
  {
   "cell_type": "markdown",
   "metadata": {},
   "source": [
    "<a id='xgboost'></a>\n",
    "\n",
    "##### XGBoost Model"
   ]
  },
  {
   "cell_type": "code",
   "execution_count": 89,
   "metadata": {},
   "outputs": [
    {
     "data": {
      "text/plain": [
       "XGBClassifier(base_score=0.5, booster='gbtree', colsample_bylevel=1,\n",
       "       colsample_bytree=1, gamma=0, learning_rate=0.1, max_delta_step=0,\n",
       "       max_depth=3, min_child_weight=1, missing=None, n_estimators=100,\n",
       "       n_jobs=1, nthread=None, objective='binary:logistic', random_state=0,\n",
       "       reg_alpha=0, reg_lambda=1, scale_pos_weight=1, seed=None,\n",
       "       silent=True, subsample=1)"
      ]
     },
     "execution_count": 89,
     "metadata": {},
     "output_type": "execute_result"
    }
   ],
   "source": [
    "xgb = XGBClassifier()\n",
    "xgb.fit(x_train, y_train)"
   ]
  },
  {
   "cell_type": "code",
   "execution_count": 90,
   "metadata": {},
   "outputs": [
    {
     "name": "stderr",
     "output_type": "stream",
     "text": [
      "/anaconda3/envs/python3/lib/python3.7/site-packages/sklearn/preprocessing/label.py:151: DeprecationWarning: The truth value of an empty array is ambiguous. Returning False, but in future this will result in an error. Use `array.size > 0` to check that an array is not empty.\n",
      "  if diff:\n"
     ]
    },
    {
     "name": "stdout",
     "output_type": "stream",
     "text": [
      "Accuracy: 99.18%\n"
     ]
    }
   ],
   "source": [
    "# make predictions for test data\n",
    "y_pred = xgb.predict(x_val)\n",
    "predictions = [round(value) for value in y_pred]\n",
    "# evaluate predictions\n",
    "accuracy = accuracy_score(y_val, predictions)\n",
    "print(\"Accuracy: %.2f%%\" % (accuracy * 100.0))"
   ]
  },
  {
   "cell_type": "code",
   "execution_count": 91,
   "metadata": {},
   "outputs": [
    {
     "name": "stderr",
     "output_type": "stream",
     "text": [
      "/anaconda3/envs/python3/lib/python3.7/site-packages/sklearn/preprocessing/label.py:151: DeprecationWarning: The truth value of an empty array is ambiguous. Returning False, but in future this will result in an error. Use `array.size > 0` to check that an array is not empty.\n",
      "  if diff:\n"
     ]
    },
    {
     "name": "stdout",
     "output_type": "stream",
     "text": [
      "The accuracy ofXGBoost model: 99.18%\n"
     ]
    }
   ],
   "source": [
    "get_accuracy(xgb, \"XGBoost\")"
   ]
  },
  {
   "cell_type": "code",
   "execution_count": 92,
   "metadata": {},
   "outputs": [
    {
     "name": "stderr",
     "output_type": "stream",
     "text": [
      "/anaconda3/envs/python3/lib/python3.7/site-packages/sklearn/preprocessing/label.py:151: DeprecationWarning: The truth value of an empty array is ambiguous. Returning False, but in future this will result in an error. Use `array.size > 0` to check that an array is not empty.\n",
      "  if diff:\n"
     ]
    },
    {
     "data": {
      "image/png": "[encoded data removed]",
      "text/plain": [
       "<Figure size 432x288 with 1 Axes>"
      ]
     },
     "metadata": {},
     "output_type": "display_data"
    }
   ],
   "source": [
    "xgboost_roc_auc = roc_auc_score(y_val, xgb.predict(x_val))\n",
    "fpr, tpr, thresholds = roc_curve(y_val, xgb.predict_proba(x_val)[:,1])\n",
    "plt.figure()\n",
    "plt.plot(fpr, tpr, label='XGBoost (area = %0.2f)' % xgboost_roc_auc)\n",
    "plt.plot([0, 1], [0, 1],'r--')\n",
    "plt.xlim([0.0, 1.0])\n",
    "plt.ylim([0.0, 1.05])\n",
    "plt.xlabel('False Positive Rate')\n",
    "plt.ylabel('True Positive Rate')\n",
    "plt.title('Receiver operating characteristic')\n",
    "plt.legend(loc=\"lower right\")\n",
    "plt.savefig('XGBoost_ROC')\n",
    "plt.show()"
   ]
  },
  {
   "cell_type": "code",
   "execution_count": 93,
   "metadata": {},
   "outputs": [
    {
     "name": "stderr",
     "output_type": "stream",
     "text": [
      "/anaconda3/envs/python3/lib/python3.7/site-packages/sklearn/preprocessing/label.py:151: DeprecationWarning: The truth value of an empty array is ambiguous. Returning False, but in future this will result in an error. Use `array.size > 0` to check that an array is not empty.\n",
      "  if diff:\n"
     ]
    },
    {
     "data": {
      "image/png": "[encoded data removed]",
      "text/plain": [
       "<Figure size 432x288 with 1 Axes>"
      ]
     },
     "metadata": {},
     "output_type": "display_data"
    }
   ],
   "source": [
    "get_roc_curve(xgb,'XGBoost')"
   ]
  },
  {
   "cell_type": "markdown",
   "metadata": {},
   "source": [
    "<a id='conclusion'></a>\n",
    "\n",
    "## Conclusion"
   ]
  },
  {
   "cell_type": "markdown",
   "metadata": {},
   "source": [
    "From accuracy, we can't tell which model is better because there are not many transactions in this dataset. The false negative rate might be high. But since logistic regession model gets larger area under the ROC curve, we can decide on logistic regression model to do the further prediction and identification."
   ]
  },
  {
   "cell_type": "markdown",
   "metadata": {},
   "source": [
    "This project is rough and incomprehensive. Better models could be built by parameter tunings and building more variables on the basis of current dataset, if more time is provided."
   ]
  },
  {
   "cell_type": "markdown",
   "metadata": {},
   "source": [
    "I am graduating from my Business Analytics program today. It's great that I took your class as the mere one that I was taking during the last quarter of my master's study at UCSD. Your detailed and organized lecture notes just help me learn python more easily. I really appreciate your time and effort in this class. If there is a need of data mining in your research team, please feel free to contact me at Bihan.Zhu@rady.ucsd.edu. I would be more than happy to help."
   ]
  },
  {
   "cell_type": "markdown",
   "metadata": {},
   "source": [
    "Thank you again and have a wonderful winter break!"
   ]
  }
 ],
 "metadata": {
  "kernelspec": {
   "display_name": "Python 3",
   "language": "python",
   "name": "python3"
  },
  "language_info": {
   "codemirror_mode": {
    "name": "ipython",
    "version": 3
   },
   "file_extension": ".py",
   "mimetype": "text/x-python",
   "name": "python",
   "nbconvert_exporter": "python",
   "pygments_lexer": "ipython3",
   "version": "3.7.1"
  }
 },
 "nbformat": 4,
 "nbformat_minor": 2
}
